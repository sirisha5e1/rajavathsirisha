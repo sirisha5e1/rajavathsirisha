{
  "cells": [
    {
      "cell_type": "markdown",
      "metadata": {
        "id": "view-in-github",
        "colab_type": "text"
      },
      "source": [
        "<a href=\"https://colab.research.google.com/github/sirisha5e1/rajavathsirisha/blob/main/assignments/Assignment_01.ipynb\" target=\"_parent\"><img src=\"https://colab.research.google.com/assets/colab-badge.svg\" alt=\"Open In Colab\"/></a>"
      ]
    },
    {
      "cell_type": "markdown",
      "id": "548b84c2-e24f-4a12-98bb-5e7bd5ec86bd",
      "metadata": {
        "id": "548b84c2-e24f-4a12-98bb-5e7bd5ec86bd"
      },
      "source": [
        "# Python"
      ]
    },
    {
      "cell_type": "markdown",
      "id": "99fbfc45-ba9e-4766-8219-f5dbcacc8481",
      "metadata": {
        "id": "99fbfc45-ba9e-4766-8219-f5dbcacc8481"
      },
      "source": [
        "<a target=\"_blank\" href=\"https://colab.research.google.com/github/kgsb24/rishi-college/blob/main/assignments/Assignment_01.ipynb\">\n",
        "  <img src=\"https://colab.research.google.com/assets/colab-badge.svg\" alt=\"Open In Colab\"/>\n",
        "</a>"
      ]
    },
    {
      "cell_type": "markdown",
      "id": "07a1f870-f905-4703-8b65-12e83172133a",
      "metadata": {
        "id": "07a1f870-f905-4703-8b65-12e83172133a"
      },
      "source": [
        "## Basic Python Fundamentals"
      ]
    },
    {
      "cell_type": "code",
      "execution_count": null,
      "id": "502e1d87-2fdd-4588-a330-2af21268215e",
      "metadata": {
        "id": "502e1d87-2fdd-4588-a330-2af21268215e",
        "colab": {
          "base_uri": "https://localhost:8080/"
        },
        "outputId": "7d5364df-f32f-4719-aaa2-5f006b1cdcdf"
      },
      "outputs": [
        {
          "output_type": "execute_result",
          "data": {
            "text/plain": [
              "int"
            ]
          },
          "metadata": {},
          "execution_count": 1
        }
      ],
      "source": [
        "# Write a Python program to declare a variable x with the value 10 and print its type.\n",
        "x=10\n",
        "type(10)"
      ]
    },
    {
      "cell_type": "code",
      "execution_count": null,
      "id": "dae77579-4b7d-4f06-96e0-7bdfe43860d7",
      "metadata": {
        "id": "dae77579-4b7d-4f06-96e0-7bdfe43860d7",
        "colab": {
          "base_uri": "https://localhost:8080/"
        },
        "outputId": "241878c7-1111-4e19-ad5c-76e4861a6479"
      },
      "outputs": [
        {
          "output_type": "execute_result",
          "data": {
            "text/plain": [
              "30"
            ]
          },
          "metadata": {},
          "execution_count": 3
        }
      ],
      "source": [
        "# Write a Python program to declare three variables a = 5, b = 10, and c = 15, and print their sum.\n",
        "a=5\n",
        "b=10\n",
        "c=15\n",
        "a+b+c"
      ]
    },
    {
      "cell_type": "code",
      "execution_count": null,
      "id": "c32867b2-a615-426a-89ae-bd2793b6a4dc",
      "metadata": {
        "id": "c32867b2-a615-426a-89ae-bd2793b6a4dc",
        "colab": {
          "base_uri": "https://localhost:8080/"
        },
        "outputId": "ad17eed8-6899-4a06-c8b4-398fa9efdd98"
      },
      "outputs": [
        {
          "output_type": "execute_result",
          "data": {
            "text/plain": [
              "str"
            ]
          },
          "metadata": {},
          "execution_count": 4
        }
      ],
      "source": [
        "# Write a Python program that checks and prints the type of a variable (e.g., int, float, str, etc.).\n",
        "name=\"shirisha Bai\"\n",
        "type(name)"
      ]
    },
    {
      "cell_type": "code",
      "execution_count": null,
      "id": "8b233e41-9d44-4869-9ead-afb3ff1c0b67",
      "metadata": {
        "id": "8b233e41-9d44-4869-9ead-afb3ff1c0b67",
        "colab": {
          "base_uri": "https://localhost:8080/"
        },
        "outputId": "0b3c92de-0e4c-4d16-a04d-f4a05fbd3218"
      },
      "outputs": [
        {
          "output_type": "stream",
          "name": "stdout",
          "text": [
            "addition: 18\n",
            "subtraction: 6\n",
            "multiplication: 72\n",
            "division: 2.0\n"
          ]
        }
      ],
      "source": [
        "# Write a Python program to perform addition, subtraction, multiplication, and division on two numbers. (User input is required for the numbers)\n",
        "a=12\n",
        "b=6\n",
        "print(\"addition:\",a+b)\n",
        "print(\"subtraction:\",a-b)\n",
        "print(\"multiplication:\",a*b)\n",
        "print(\"division:\",a/b)"
      ]
    },
    {
      "cell_type": "code",
      "execution_count": null,
      "id": "629435bd-6bfa-44de-91d9-3b2937713257",
      "metadata": {
        "id": "629435bd-6bfa-44de-91d9-3b2937713257",
        "colab": {
          "base_uri": "https://localhost:8080/"
        },
        "outputId": "fa826f98-b159-4ae0-d998-e477aa1653d6"
      },
      "outputs": [
        {
          "output_type": "stream",
          "name": "stdout",
          "text": [
            "integer value: 123\n",
            "float value: 123\n"
          ]
        }
      ],
      "source": [
        "# Write a Python program to convert a string \"123\" to an integer and a float and print the resluts.\n",
        "s =\"123\"\n",
        "integer_value = int(s)\n",
        "print(\"integer value:\",\"123\")\n",
        "print(\"float value:\",123)"
      ]
    },
    {
      "cell_type": "code",
      "execution_count": null,
      "id": "599421f1-51c1-4653-9d78-b007fcc6861b",
      "metadata": {
        "id": "599421f1-51c1-4653-9d78-b007fcc6861b",
        "colab": {
          "base_uri": "https://localhost:8080/"
        },
        "outputId": "76f5e7e7-555a-4ae6-a4c7-be1964fc5ce5"
      },
      "outputs": [
        {
          "output_type": "stream",
          "name": "stdout",
          "text": [
            "HELLO WORLD\n",
            "swetha\n"
          ]
        }
      ],
      "source": [
        "# Write a Python program to print the first character of a given string. (User input for the string)\n",
        "input_string = input(\"HELLO WORLD\")\n",
        "print(\"swetha\")"
      ]
    },
    {
      "cell_type": "code",
      "execution_count": null,
      "id": "54ee0a5d-415f-40b6-b82e-c0de12a002f9",
      "metadata": {
        "id": "54ee0a5d-415f-40b6-b82e-c0de12a002f9",
        "colab": {
          "base_uri": "https://localhost:8080/"
        },
        "outputId": "3b4439ac-31dc-4c30-acb1-8222d34edae1"
      },
      "outputs": [
        {
          "output_type": "stream",
          "name": "stdout",
          "text": [
            "bhavani\n",
            " lenght of a string: 3\n"
          ]
        }
      ],
      "source": [
        "# Write a Python program to print the length of a string. (User input for the string)\n",
        "input_string = input(\"bhavani\")\n",
        "print(\" lenght of a string:\",len(\"420\"))"
      ]
    },
    {
      "cell_type": "code",
      "execution_count": null,
      "id": "65f44c33-618e-4337-a9d1-9de888c93a0a",
      "metadata": {
        "id": "65f44c33-618e-4337-a9d1-9de888c93a0a",
        "colab": {
          "base_uri": "https://localhost:8080/"
        },
        "outputId": "3ae69283-e34c-4597-f592-721a1be82a98"
      },
      "outputs": [
        {
          "output_type": "stream",
          "name": "stdout",
          "text": [
            "meghana\n",
            "non-alphabet: meghana420\n"
          ]
        }
      ],
      "source": [
        "# Write a Python program to check if a given string contains only alphabets.\n",
        "input_string = input(\"meghana\")\n",
        "print(\"non-alphabet:\",(\"meghana420\"))"
      ]
    },
    {
      "cell_type": "code",
      "execution_count": null,
      "id": "37463128-2b51-4860-b6bf-40d3c03fbe84",
      "metadata": {
        "id": "37463128-2b51-4860-b6bf-40d3c03fbe84",
        "colab": {
          "base_uri": "https://localhost:8080/"
        },
        "outputId": "afde48d5-aa21-4757-cc16-b70888db21a3"
      },
      "outputs": [
        {
          "output_type": "stream",
          "name": "stdout",
          "text": [
            "Artificial Intelligence & Machine learning\n"
          ]
        }
      ],
      "source": [
        "\n",
        "# Write a Python program to concatenate two strings. (User input for the strings)\n",
        "x = \"Artificial Intelligence & \"\n",
        "y = \"Machine learning\"\n",
        "z = x + y\n",
        "print(z)\n"
      ]
    },
    {
      "cell_type": "code",
      "execution_count": null,
      "id": "b1c5d364-eccf-473a-b03a-ab15f3e917cf",
      "metadata": {
        "id": "b1c5d364-eccf-473a-b03a-ab15f3e917cf",
        "colab": {
          "base_uri": "https://localhost:8080/"
        },
        "outputId": "c5653de1-c707-49b4-b14d-3ad6335e2900"
      },
      "outputs": [
        {
          "output_type": "stream",
          "name": "stdout",
          "text": [
            "index is: 6\n",
            "index is: 7\n"
          ]
        }
      ],
      "source": [
        "# Write a Python program to find the index of a substring \"abc\" in a string. (User input for the string)\n",
        "s= \"stringabc\"\n",
        "print(\"index is:\",s.index(\"a\"))\n",
        "print(\"index is:\",s.index(\"b\"))"
      ]
    },
    {
      "cell_type": "code",
      "execution_count": null,
      "id": "cc92afd9-ba4b-4934-a79d-f26825b4efc2",
      "metadata": {
        "id": "cc92afd9-ba4b-4934-a79d-f26825b4efc2",
        "colab": {
          "base_uri": "https://localhost:8080/"
        },
        "outputId": "22660562-c5eb-4926-dd10-bdbf60e31133"
      },
      "outputs": [
        {
          "output_type": "stream",
          "name": "stdout",
          "text": [
            "uppercase is: RISHI\n",
            "lowercase is: rishi\n"
          ]
        }
      ],
      "source": [
        "# Write a Python program to convert a string to both uppercase and lowercase. (User input for the string)\n",
        "name=\"Rishi\"\n",
        "print(\"uppercase is:\",name.upper())\n",
        "print(\"lowercase is:\",name.lower())"
      ]
    },
    {
      "cell_type": "code",
      "execution_count": null,
      "id": "f24f79b3-da8b-44bf-8310-c68442e86e3e",
      "metadata": {
        "id": "f24f79b3-da8b-44bf-8310-c68442e86e3e",
        "colab": {
          "base_uri": "https://localhost:8080/"
        },
        "outputId": "6aecd9ff-6649-4e15-c742-64a9df12fb68"
      },
      "outputs": [
        {
          "output_type": "stream",
          "name": "stdout",
          "text": [
            "7\n"
          ]
        }
      ],
      "source": [
        "# Write a Python program to count how many times a particular character appears in a string. (User input for string and character)\n",
        "name=\"Jawaharlal Nehru Technological University, Hyderabad\"\n",
        "count=name.count('a')\n",
        "print(count)"
      ]
    },
    {
      "cell_type": "code",
      "execution_count": null,
      "id": "f2e8f25c-5c34-44eb-b749-7cc4c100b9a8",
      "metadata": {
        "id": "f2e8f25c-5c34-44eb-b749-7cc4c100b9a8",
        "colab": {
          "base_uri": "https://localhost:8080/"
        },
        "outputId": "3538be4b-55e3-41e2-a51b-d4c62a719608"
      },
      "outputs": [
        {
          "output_type": "stream",
          "name": "stdout",
          "text": [
            "enter your name:hemanth\n",
            "hello, good morning\n"
          ]
        },
        {
          "output_type": "execute_result",
          "data": {
            "text/plain": [
              "(None, 'hemanth')"
            ]
          },
          "metadata": {},
          "execution_count": 21
        }
      ],
      "source": [
        "# Write a Python program to take the user's name as input and print a personalized greeting. (Hello, username, Good Morning)\n",
        "name=input(\"enter your name:\")\n",
        "print('hello, good morning'),name"
      ]
    },
    {
      "cell_type": "code",
      "execution_count": null,
      "id": "189296cf-77e6-4f48-b010-77458da5bc9d",
      "metadata": {
        "id": "189296cf-77e6-4f48-b010-77458da5bc9d",
        "colab": {
          "base_uri": "https://localhost:8080/"
        },
        "outputId": "59d052a2-1586-43f7-f94a-8f84f72574b1"
      },
      "outputs": [
        {
          "output_type": "stream",
          "name": "stdout",
          "text": [
            "enter a:89\n",
            "enter b:99\n",
            "the sum is: 188\n"
          ]
        }
      ],
      "source": [
        "# Write a Python program to take two numbers as input and print their sum.\n",
        "a=input(\"enter a:\")\n",
        "b=input(\"enter b:\")\n",
        "sum=int(a)+int(b)\n",
        "print(\"the sum is:\", sum)"
      ]
    },
    {
      "cell_type": "code",
      "execution_count": null,
      "id": "0563b26c-0218-47b8-9035-98beb73b0931",
      "metadata": {
        "id": "0563b26c-0218-47b8-9035-98beb73b0931",
        "colab": {
          "base_uri": "https://localhost:8080/"
        },
        "outputId": "14ee64bd-37eb-466a-8199-d82e263881b7"
      },
      "outputs": [
        {
          "output_type": "stream",
          "name": "stdout",
          "text": [
            "sirisha bai\n",
            "20\n"
          ]
        }
      ],
      "source": [
        "# Write a Python program to format and display a string containing the user's name and age. (User input required)\n",
        "Name=print(\"sirisha bai\")\n",
        "Age=print(\"20\")\n"
      ]
    },
    {
      "cell_type": "markdown",
      "id": "0bde6e5a-0415-4b06-8b5a-95fa252b34eb",
      "metadata": {
        "id": "0bde6e5a-0415-4b06-8b5a-95fa252b34eb"
      },
      "source": [
        "## Control Structures (Conditionals and Loops)"
      ]
    },
    {
      "cell_type": "code",
      "execution_count": null,
      "id": "aefff5f3-b61e-43e6-a458-7367ef1af9de",
      "metadata": {
        "id": "aefff5f3-b61e-43e6-a458-7367ef1af9de",
        "colab": {
          "base_uri": "https://localhost:8080/"
        },
        "outputId": "2edc9f3b-eed1-479f-a03b-7a0695320603"
      },
      "outputs": [
        {
          "output_type": "stream",
          "name": "stdout",
          "text": [
            "Enter a number: 10\n",
            "Positive number\n"
          ]
        }
      ],
      "source": [
        "# Write a Python program that takes a number as input and checks whether it is positive, negative, or zero.\n",
        "num = float(input(\"Enter a number: \"))\n",
        "if num > 0:\n",
        "   print(\"Positive number\")\n",
        "elif num == 0:\n",
        "   print(\"Zero\")\n",
        "else:\n",
        "   print(\"Negative number\")\n"
      ]
    },
    {
      "cell_type": "code",
      "execution_count": null,
      "id": "4dc6d14b-6d22-4348-859a-2a03f9be65f7",
      "metadata": {
        "id": "4dc6d14b-6d22-4348-859a-2a03f9be65f7",
        "colab": {
          "base_uri": "https://localhost:8080/"
        },
        "outputId": "ac55b109-4393-4617-da9c-906de276e06f"
      },
      "outputs": [
        {
          "output_type": "stream",
          "name": "stdout",
          "text": [
            "14\n"
          ]
        }
      ],
      "source": [
        "# Write a Python program to find the maximum of three numbers. (User input for the numbers)\n",
        "#Python program to find the largest\n",
        "# number among the three numbers\n",
        "\n",
        "def maximum(a, b, c):\n",
        "\n",
        "    if (a >= b) and (a >= c):\n",
        "        largest = a\n",
        "\n",
        "    elif (b >= a) and (b >= c):\n",
        "        largest = b\n",
        "    else:\n",
        "        largest = c\n",
        "\n",
        "    return largest\n",
        "\n",
        "\n",
        "# Driven code\n",
        "a = 10\n",
        "b = 14\n",
        "c = 12\n",
        "print(max(b, c))"
      ]
    },
    {
      "cell_type": "code",
      "execution_count": null,
      "id": "3f6d1f45-eb68-4142-89d6-510046f21879",
      "metadata": {
        "id": "3f6d1f45-eb68-4142-89d6-510046f21879",
        "colab": {
          "base_uri": "https://localhost:8080/"
        },
        "outputId": "d4bfa5f3-c91f-4490-bf2e-51e7c025d06d"
      },
      "outputs": [
        {
          "output_type": "stream",
          "name": "stdout",
          "text": [
            "Enter a year:2005\n",
            " 2005 is not a leap year.\n"
          ]
        }
      ],
      "source": [
        "# Write a Python program to check if a year is a leap year. (User input for the year)\n",
        "import calendar\n",
        "year = int(input(\"Enter a year:\"))\n",
        "if calendar.isleap(year):\n",
        "  print(f\"{year} is a leap year.\")\n",
        "else :\n",
        "  print(f\" {year} is not a leap year.\")\n"
      ]
    },
    {
      "cell_type": "code",
      "execution_count": null,
      "id": "b6a07105-6fa5-4f70-b64b-ebd66afc3c2b",
      "metadata": {
        "id": "b6a07105-6fa5-4f70-b64b-ebd66afc3c2b",
        "colab": {
          "base_uri": "https://localhost:8080/"
        },
        "outputId": "35e6e32b-617b-4368-94bb-63f6b0a27e4a"
      },
      "outputs": [
        {
          "output_type": "stream",
          "name": "stdout",
          "text": [
            "Enter lower range limit:0\n",
            "Enter upper range limit:99\n",
            "0\n",
            "15\n",
            "30\n",
            "45\n",
            "60\n",
            "75\n",
            "90\n"
          ]
        }
      ],
      "source": [
        "# Write a Python program to check if a number is divisible by both 3 and 5. (User input for the number)\n",
        "lower = int(input(\"Enter lower range limit:\"))\n",
        "upper = int(input(\"Enter upper range limit:\"))\n",
        "for i in range(lower, upper+1):\n",
        "   if ((i%3==0) and (i%5==0)):\n",
        "        print(i)"
      ]
    },
    {
      "cell_type": "code",
      "execution_count": null,
      "id": "d10c9005-b85d-42f9-81d0-65d149415888",
      "metadata": {
        "id": "d10c9005-b85d-42f9-81d0-65d149415888",
        "colab": {
          "base_uri": "https://localhost:8080/"
        },
        "outputId": "adbddbbb-eb2b-4e58-d5c6-a31e03736b40"
      },
      "outputs": [
        {
          "output_type": "stream",
          "name": "stdout",
          "text": [
            "Enter  a string:Madam\n",
            "'madam' is a palindrome.\n"
          ]
        }
      ],
      "source": [
        "# Write a Python program to check if a string is a palindrome. (User input for the string)\n",
        "string = input(\"Enter  a string:\")\n",
        "string = string.replace(\"\",\"\"). lower()\n",
        "if string == string[::-1]:\n",
        "   print(f\"'{string}' is a palindrome.\")\n",
        "else:\n",
        "       print(f\"'{string}' is not a palindrome.\")"
      ]
    },
    {
      "cell_type": "code",
      "execution_count": null,
      "id": "82d76cdf-efc6-45c6-ab09-9d1f17b3d857",
      "metadata": {
        "id": "82d76cdf-efc6-45c6-ab09-9d1f17b3d857",
        "colab": {
          "base_uri": "https://localhost:8080/"
        },
        "outputId": "213acf04-d75b-49f9-951a-ee781ad3dfc4"
      },
      "outputs": [
        {
          "output_type": "stream",
          "name": "stdout",
          "text": [
            "1\n",
            "2\n",
            "3\n",
            "4\n",
            "5\n",
            "6\n",
            "7\n",
            "8\n",
            "9\n",
            "10\n",
            "11\n",
            "12\n",
            "13\n",
            "14\n"
          ]
        }
      ],
      "source": [
        "# Write a Python program to print numbers from 1 to 10 using a for loop.\n",
        "for i in range(1,15):\n",
        "  print(i)"
      ]
    },
    {
      "cell_type": "code",
      "execution_count": null,
      "id": "d09e8994-e984-4c12-ab1e-1bfc6938a389",
      "metadata": {
        "id": "d09e8994-e984-4c12-ab1e-1bfc6938a389",
        "colab": {
          "base_uri": "https://localhost:8080/"
        },
        "outputId": "e704d298-15a9-4e3b-efd5-149a4f09ebf3"
      },
      "outputs": [
        {
          "output_type": "stream",
          "name": "stdout",
          "text": [
            "2\n",
            "4\n",
            "6\n",
            "8\n",
            "10\n",
            "12\n",
            "14\n",
            "16\n",
            "18\n",
            "20\n"
          ]
        }
      ],
      "source": [
        "# Write a Python program to print all even numbers from 1 to 20 using a while loop.\n",
        "number = 1\n",
        "while number <= 20:\n",
        "    # Check if the number is even\n",
        "    if number % 2 == 0:\n",
        "        print(number)\n",
        "    # Increment the number\n",
        "    number += 1\n"
      ]
    },
    {
      "cell_type": "code",
      "execution_count": null,
      "id": "c09ca878-167e-49ca-97f0-247a43c9b472",
      "metadata": {
        "id": "c09ca878-167e-49ca-97f0-247a43c9b472",
        "colab": {
          "base_uri": "https://localhost:8080/"
        },
        "outputId": "5b676ed6-aaa3-4593-ae23-ed487c01d18e"
      },
      "outputs": [
        {
          "output_type": "stream",
          "name": "stdout",
          "text": [
            "Enter the number to generate its multiplication table: 8\n",
            "\n",
            "Multiplication Table for 8:\n",
            "\n",
            "8 x 1 = 8\n",
            "8 x 2 = 16\n",
            "8 x 3 = 24\n",
            "8 x 4 = 32\n",
            "8 x 5 = 40\n",
            "8 x 6 = 48\n",
            "8 x 7 = 56\n",
            "8 x 8 = 64\n",
            "8 x 9 = 72\n",
            "8 x 10 = 80\n"
          ]
        }
      ],
      "source": [
        "# Write a Python program to print the multiplication table of a given number using a for loop. (User input for the number)\n",
        "number = int(input(\"Enter the number to generate its multiplication table: \"))\n",
        "print(f\"\\nMultiplication Table for {number}:\\n\")\n",
        "for i in range(1, 11):\n",
        "    print(f\"{number} x {i} = {number * i}\")"
      ]
    },
    {
      "cell_type": "code",
      "execution_count": null,
      "id": "b72118ab-e62d-4af9-bcec-e1cc6af31b25",
      "metadata": {
        "id": "b72118ab-e62d-4af9-bcec-e1cc6af31b25",
        "colab": {
          "base_uri": "https://localhost:8080/"
        },
        "outputId": "3963e30e-c40b-4408-b7a2-97f1347d0cbf"
      },
      "outputs": [
        {
          "output_type": "stream",
          "name": "stdout",
          "text": [
            "Enter a positive integer: 9\n",
            "The sum of all numbers from 1 to 9 is 45.\n"
          ]
        }
      ],
      "source": [
        "# Write a Python program to calculate the sum of all numbers from 1 to n using a while loop. (User input for n)\n",
        "n = int(input(\"Enter a positive integer: \"))\n",
        "total_sum = 0\n",
        "current_number = 1\n",
        "while current_number <= n:\n",
        "    total_sum += current_number\n",
        "    current_number += 1\n",
        "print(f\"The sum of all numbers from 1 to {n} is {total_sum}.\")"
      ]
    },
    {
      "cell_type": "code",
      "execution_count": null,
      "id": "ae93621f-11a2-40b7-97bc-3002f03ac36a",
      "metadata": {
        "id": "ae93621f-11a2-40b7-97bc-3002f03ac36a",
        "colab": {
          "base_uri": "https://localhost:8080/"
        },
        "outputId": "b2aacf4f-9873-48e9-c5db-c42b1e8c532f"
      },
      "outputs": [
        {
          "output_type": "stream",
          "name": "stdout",
          "text": [
            "Enter a positive integer: -6\n",
            "Factorial is not defined for negative numbers.\n"
          ]
        }
      ],
      "source": [
        "# Write a Python program to calculate the factorial of a number using a while loop. (User input for the number)\n",
        "num = int(input(\"Enter a positive integer: \"))\n",
        "if num < 0:\n",
        "    print(\"Factorial is not defined for negative numbers.\")\n",
        "else:\n",
        "    factorial = 1\n",
        "    i = 1\n",
        "    while i <= num:\n",
        "        factorial *= i\n",
        "        i += 1\n",
        "    print(f\"The factorial of {num} is {factorial}.\")"
      ]
    },
    {
      "cell_type": "code",
      "execution_count": null,
      "id": "68467ccc-d696-4ef1-84c4-164c9d87f755",
      "metadata": {
        "id": "68467ccc-d696-4ef1-84c4-164c9d87f755",
        "colab": {
          "base_uri": "https://localhost:8080/"
        },
        "outputId": "24417699-3706-4e56-8ec7-6b24ef72ad67"
      },
      "outputs": [
        {
          "output_type": "stream",
          "name": "stdout",
          "text": [
            "Enter the number of terms: 8\n",
            "Fibonacci sequence up to 8 terms:\n",
            "011235813"
          ]
        }
      ],
      "source": [
        "# Write a Python program to print the Fibonacci sequence up to n terms. (User input for n)\n",
        "n = int(input(\"Enter the number of terms: \"))\n",
        "if n <= 0:\n",
        "    print(\"Please enter a positive integer.\")\n",
        "else:\n",
        "     a,b = 0,1\n",
        "     count = 0\n",
        "     print(f\"Fibonacci sequence up to {n} terms:\")\n",
        "while count < n:\n",
        "  print(a,end=\"\")\n",
        "  nth = a + b\n",
        "  a = b\n",
        "  b = nth\n",
        "  count += 1\n"
      ]
    },
    {
      "cell_type": "code",
      "execution_count": null,
      "id": "5bebd1f3-2606-4102-aa55-01cb1650f632",
      "metadata": {
        "id": "5bebd1f3-2606-4102-aa55-01cb1650f632",
        "colab": {
          "base_uri": "https://localhost:8080/"
        },
        "outputId": "f15e2568-c8fc-4320-c46c-d3b2ce491aa0"
      },
      "outputs": [
        {
          "output_type": "stream",
          "name": "stdout",
          "text": [
            "Prime numbers from 1 to 100:\n",
            "[2, 3, 5, 7, 11, 13, 17, 19, 23, 29, 31, 37, 41, 43, 47, 53, 59, 61, 67, 71, 73, 79, 83, 89, 97]\n"
          ]
        }
      ],
      "source": [
        "# Write a Python program to find all the prime numbers from 1 to 100.\n",
        "def is_prime(num):\n",
        "    if num <= 1:\n",
        "        return False\n",
        "    for i in range(2, int(num ** 0.5) + 1):\n",
        "        if num % i == 0:\n",
        "            return False\n",
        "    return True\n",
        "\n",
        "def find_primes_in_range(start, end):\n",
        "    primes = []\n",
        "    for num in range(start, end + 1):\n",
        "        if is_prime(num):\n",
        "            primes.append(num)\n",
        "    return primes\n",
        "\n",
        "primes = find_primes_in_range(1, 100)\n",
        "print(\"Prime numbers from 1 to 100:\")\n",
        "print(primes)"
      ]
    },
    {
      "cell_type": "code",
      "execution_count": null,
      "id": "0a3f894e-52ba-4c0b-9158-a70f31f4fd49",
      "metadata": {
        "id": "0a3f894e-52ba-4c0b-9158-a70f31f4fd49",
        "colab": {
          "base_uri": "https://localhost:8080/"
        },
        "outputId": "7a456627-7331-4ee3-c9af-86d552815693"
      },
      "outputs": [
        {
          "output_type": "stream",
          "name": "stdout",
          "text": [
            "Generated numbers: [1, 3, 17, 73, 11, 72, 70, 94, 8, 75, 99, 87, 59, 48, 6, 7, 90, 90, 30, 28]\n",
            "Number greater than 50 found: 73\n"
          ]
        }
      ],
      "source": [
        "# Write a Python program that breaks out of a loop when a specific condition is met (e.g., when a number greater than 50 is found).\n",
        "import random\n",
        "numbers = [random.randint(1, 100) for _ in range(20)]\n",
        "print(\"Generated numbers:\", numbers)\n",
        "for number in numbers:\n",
        "    if number > 50:\n",
        "        print(f\"Number greater than 50 found: {number}\")\n",
        "        break\n",
        "else:\n",
        "    print(\"No number greater than 50 found.\")"
      ]
    },
    {
      "cell_type": "code",
      "execution_count": null,
      "id": "499b91d0-1f1b-494f-af2b-8cc3a06d90ed",
      "metadata": {
        "id": "499b91d0-1f1b-494f-af2b-8cc3a06d90ed",
        "colab": {
          "base_uri": "https://localhost:8080/"
        },
        "outputId": "fb6ef621-94e7-4ee7-9020-8c4b4603d6b1"
      },
      "outputs": [
        {
          "output_type": "stream",
          "name": "stdout",
          "text": [
            "1\n",
            "3\n",
            "5\n",
            "7\n",
            "9\n",
            "11\n",
            "13\n",
            "15\n",
            "17\n",
            "19\n"
          ]
        }
      ],
      "source": [
        "# Write a Python program to skip even numbers while printing numbers from 1 to 20 using a for loop.\n",
        "for number in range(1, 21):\n",
        "    if number % 2 == 0:\n",
        "        continue\n",
        "    print(number)"
      ]
    },
    {
      "cell_type": "code",
      "execution_count": null,
      "id": "f8ffed70-dfde-4262-a2fd-0d35d69b5fb1",
      "metadata": {
        "id": "f8ffed70-dfde-4262-a2fd-0d35d69b5fb1",
        "colab": {
          "base_uri": "https://localhost:8080/"
        },
        "outputId": "adb42104-7628-435a-f7b0-236d630c0156"
      },
      "outputs": [
        {
          "name": "stdout",
          "output_type": "stream",
          "text": [
            "Enter a string: 5\n",
            "Enter a character to count its occurrences: 7\n"
          ]
        }
      ],
      "source": [
        "# Write a Python program to count how many times a particular character appears in a string using a for loop. (User input for string and character)\n",
        "string = input(\"Enter a string: \")\n",
        "character = input(\"Enter a character to count its occurrences: \")\n",
        "count = 0\n",
        "for char in string:\n",
        "    if char == character:\n",
        "        count += 1"
      ]
    },
    {
      "cell_type": "code",
      "execution_count": null,
      "id": "01f976ed-4dcd-4842-ae84-d3b5cc42d011",
      "metadata": {
        "id": "01f976ed-4dcd-4842-ae84-d3b5cc42d011",
        "colab": {
          "base_uri": "https://localhost:8080/"
        },
        "outputId": "b2ca65b6-052e-46b0-dd19-72485255a759"
      },
      "outputs": [
        {
          "name": "stdout",
          "output_type": "stream",
          "text": [
            "Enter a number: 678\n"
          ]
        }
      ],
      "source": [
        "# Write a Python program to calculate the sum of digits of a number. (User input for the number)\n",
        "number = int(input(\"Enter a number: \"))\n",
        "sum_of_digits = 0\n",
        "while number > 0:\n",
        "    digit = number % 10\n",
        "    sum_of_digits += digit\n",
        "    number //= 10"
      ]
    },
    {
      "cell_type": "markdown",
      "id": "fe644fae-f262-48dd-b7ff-08eb747d297e",
      "metadata": {
        "id": "fe644fae-f262-48dd-b7ff-08eb747d297e"
      },
      "source": [
        "## Data Structures (Lists, Tuples, Sets, Dictionaries)"
      ]
    },
    {
      "cell_type": "code",
      "execution_count": null,
      "id": "a0333c26-8e19-4c71-9722-d32cf8625ef6",
      "metadata": {
        "id": "a0333c26-8e19-4c71-9722-d32cf8625ef6",
        "colab": {
          "base_uri": "https://localhost:8080/"
        },
        "outputId": "7bb90b9a-450c-440e-ae16-adee5552e30b"
      },
      "outputs": [
        {
          "output_type": "stream",
          "name": "stdout",
          "text": [
            "Sum of elements: 21\n",
            "[1, 2, 3, 4, 5, 6]\n"
          ]
        }
      ],
      "source": [
        "# Write a Python program to create a list of integers and print the sum of the elements.\n",
        "numbers = [1, 2, 3, 4, 5, 6]\n",
        "sum_of_elements = sum(numbers)\n",
        "print(\"Sum of elements:\", sum_of_elements)\n",
        "print(numbers)"
      ]
    },
    {
      "cell_type": "code",
      "execution_count": null,
      "id": "5a23046d-80b0-4f8d-a02f-4e3d833c0443",
      "metadata": {
        "id": "5a23046d-80b0-4f8d-a02f-4e3d833c0443",
        "colab": {
          "base_uri": "https://localhost:8080/"
        },
        "outputId": "fcd2abca-4516-4eb0-9e1f-e24e8df4fb82"
      },
      "outputs": [
        {
          "output_type": "stream",
          "name": "stdout",
          "text": [
            "Largest element: 8\n"
          ]
        }
      ],
      "source": [
        "# Write a Python program to find the largest element in a list.\n",
        "numbers = [1, 2, 3, 4, 5, 6, 7, 8]\n",
        "largest_element = max(numbers)\n",
        "print(\"Largest element:\", largest_element)"
      ]
    },
    {
      "cell_type": "code",
      "execution_count": null,
      "id": "9939c2d2-90fd-4e80-81bc-227c72e60e37",
      "metadata": {
        "id": "9939c2d2-90fd-4e80-81bc-227c72e60e37",
        "colab": {
          "base_uri": "https://localhost:8080/"
        },
        "outputId": "b205ec42-203b-4078-b168-f2c73c217f1a"
      },
      "outputs": [
        {
          "output_type": "stream",
          "name": "stdout",
          "text": [
            "Reversed list: [3, 2, 1]\n"
          ]
        }
      ],
      "source": [
        "# Write a Python program to reverse a list.\n",
        "numbers = [1, 2, 3]\n",
        "reversed_list = numbers[::-1]\n",
        "print(\"Reversed list:\", reversed_list)"
      ]
    },
    {
      "cell_type": "code",
      "execution_count": null,
      "id": "aa287db8-057b-48d4-a6d8-18cc53eb7178",
      "metadata": {
        "id": "aa287db8-057b-48d4-a6d8-18cc53eb7178",
        "colab": {
          "base_uri": "https://localhost:8080/"
        },
        "outputId": "a8dae748-d95e-4bfe-cc90-90132c99dff4"
      },
      "outputs": [
        {
          "output_type": "stream",
          "name": "stdout",
          "text": [
            "original list: [1, 2, 4, 5, 6]\n",
            "list after removing all occurrence of 3\n"
          ]
        },
        {
          "output_type": "execute_result",
          "data": {
            "text/plain": [
              "(None, ':', [1, 2, 4, 5, 6])"
            ]
          },
          "metadata": {},
          "execution_count": 36
        }
      ],
      "source": [
        "# Write a Python program to remove all occurrences of a specific element from a list.\n",
        "numbers = [1, 2, 3, 4, 3, 5, 3, 6]\n",
        "element_to_remove = 3\n",
        "numbers = [num for num in numbers if num != element_to_remove]\n",
        "print(\"original list:\",numbers)\n",
        "print(\"list after removing all occurrence of\",element_to_remove),\":\",numbers\n"
      ]
    },
    {
      "cell_type": "code",
      "execution_count": null,
      "id": "da9ba926-0ab5-46e9-b66d-128088c3225b",
      "metadata": {
        "id": "da9ba926-0ab5-46e9-b66d-128088c3225b",
        "colab": {
          "base_uri": "https://localhost:8080/"
        },
        "outputId": "704c95f5-6586-4208-a10f-995bac622c64"
      },
      "outputs": [
        {
          "output_type": "stream",
          "name": "stdout",
          "text": [
            "Index of 40 : 3\n",
            "[10, 20, 30, 40, 50, 60]\n"
          ]
        }
      ],
      "source": [
        "# Write a Python program to find the index of an element in a list.\n",
        "numbers = [10, 20, 30, 40, 50, 60]\n",
        "element_to_find = 40\n",
        "index = numbers.index(element_to_find)\n",
        "print(\"Index of\",element_to_find,\":\",index)\n",
        "print(numbers)\n"
      ]
    },
    {
      "cell_type": "code",
      "execution_count": null,
      "id": "9601b6e4-cb90-4e1f-87b4-38ed37076e0d",
      "metadata": {
        "id": "9601b6e4-cb90-4e1f-87b4-38ed37076e0d",
        "colab": {
          "base_uri": "https://localhost:8080/"
        },
        "outputId": "1f795d87-a6c1-4828-d6fb-bcb518328117"
      },
      "outputs": [
        {
          "output_type": "stream",
          "name": "stdout",
          "text": [
            "The element 20 exists in the list.\n"
          ]
        }
      ],
      "source": [
        "# Write a Python program to find if a specific element exists in a list.\n",
        "numbers = [5, 10, 15, 20, 25, 30, 35]\n",
        "element_to_find = 20\n",
        "if element_to_find in numbers:\n",
        "    print(f\"The element {element_to_find} exists in the list.\")"
      ]
    },
    {
      "cell_type": "code",
      "execution_count": null,
      "id": "9d8e7311-81de-4da2-826c-c4dcad28ed9f",
      "metadata": {
        "id": "9d8e7311-81de-4da2-826c-c4dcad28ed9f",
        "colab": {
          "base_uri": "https://localhost:8080/"
        },
        "outputId": "64d0029a-b65b-4c67-ec12-04905678d0e3"
      },
      "outputs": [
        {
          "output_type": "stream",
          "name": "stdout",
          "text": [
            "Original list: [1, 2, 2, 3, 4, 5, 5, 6]\n",
            "List after removing duplicates: [1, 2, 3, 4, 5, 6]\n"
          ]
        }
      ],
      "source": [
        "# Write a Python program to remove duplicates from a list.\n",
        "numbers = [1, 2, 2, 3, 4, 5, 5, 6]\n",
        "unique_numbers = list(set(numbers))\n",
        "print(\"Original list:\", numbers)\n",
        "print(\"List after removing duplicates:\", unique_numbers)"
      ]
    },
    {
      "cell_type": "code",
      "execution_count": null,
      "id": "09e5121b-97b3-42e4-8025-f28f3470681b",
      "metadata": {
        "id": "09e5121b-97b3-42e4-8025-f28f3470681b",
        "colab": {
          "base_uri": "https://localhost:8080/"
        },
        "outputId": "09f58046-fc9a-44a2-b849-e7abbc21827c"
      },
      "outputs": [
        {
          "output_type": "stream",
          "name": "stdout",
          "text": [
            "Original list: [1, 2, 2, 3, 4, 5, 5, 6, 7, 7]\n",
            "Number of occurrences of 3 : 1\n"
          ]
        }
      ],
      "source": [
        "# Write a Python program to count the occurrences of an element in a list.\n",
        "numbers = [1, 2, 2, 3, 4, 5, 5, 6, 7, 7]\n",
        "element_to_count = 3\n",
        "count = numbers.count(element_to_count)\n",
        "print(\"Original list:\", numbers)\n",
        "print(\"Number of occurrences of\",element_to_count,\":\",count)\n"
      ]
    },
    {
      "cell_type": "code",
      "execution_count": null,
      "id": "b774b741-e9a6-45db-8f00-e6d9b734d03a",
      "metadata": {
        "id": "b774b741-e9a6-45db-8f00-e6d9b734d03a",
        "colab": {
          "base_uri": "https://localhost:8080/"
        },
        "outputId": "53ff157e-8dbd-4925-c506-0115cdce3323"
      },
      "outputs": [
        {
          "output_type": "stream",
          "name": "stdout",
          "text": [
            "Original list: [1, 2, 3, 4, 5, 6, 7, 8, 9, 10, 11, 12, 13, 14, 15]\n",
            "Number of even numbers: 7\n"
          ]
        }
      ],
      "source": [
        "# Write a Python program to get the number of even numbers in a list.\n",
        "numbers = [1, 2, 3, 4, 5, 6, 7, 8, 9, 10, 11, 12, 13, 14, 15]\n",
        "even_count = sum(1 for num in numbers if num % 2 == 0)\n",
        "print(\"Original list:\", numbers)\n",
        "print(\"Number of even numbers:\", even_count)"
      ]
    },
    {
      "cell_type": "code",
      "execution_count": null,
      "id": "5ce4fd2b-ab16-4b40-9ac2-d19c244d8d96",
      "metadata": {
        "id": "5ce4fd2b-ab16-4b40-9ac2-d19c244d8d96",
        "colab": {
          "base_uri": "https://localhost:8080/"
        },
        "outputId": "084f156d-4b67-4bb6-a449-e75534141453"
      },
      "outputs": [
        {
          "output_type": "stream",
          "name": "stdout",
          "text": [
            "Tuple: (1, 3, 5, 7, 8, 10)\n"
          ]
        }
      ],
      "source": [
        "# Write a Python program to create a tuple and print it.\n",
        "my_tuple = (1, 3, 5, 7, 8, 10)\n",
        "print(\"Tuple:\", my_tuple)"
      ]
    },
    {
      "cell_type": "code",
      "execution_count": null,
      "id": "5c04f880-6e96-4ef4-9f4b-df21aae76ff1",
      "metadata": {
        "id": "5c04f880-6e96-4ef4-9f4b-df21aae76ff1",
        "colab": {
          "base_uri": "https://localhost:8080/"
        },
        "outputId": "6ce936a8-d7ac-4bf7-e0a3-8601bcc62998"
      },
      "outputs": [
        {
          "output_type": "stream",
          "name": "stdout",
          "text": [
            "Tuple: (10, 20, 30, 40, 50)\n",
            "Converted to list: [10, 20, 30, 40, 50]\n",
            "\n",
            "List: [60, 70, 80, 90, 100]\n",
            "Converted to tuple:\n",
            " my_tuple\n"
          ]
        }
      ],
      "source": [
        "# Write a Python program to convert a tuple to a list and vice versa.\n",
        "\n",
        "my_tuple = (10, 20, 30, 40, 50)\n",
        "my_list = list(my_tuple)\n",
        "print(\"Tuple:\", my_tuple)\n",
        "print(\"Converted to list:\", my_list)\n",
        "\n",
        "my_list = [60, 70, 80, 90, 100]\n",
        "my_tuple = tuple(my_list)\n",
        "print(\"\\nList:\", my_list)\n",
        "print(\"Converted to tuple:\")\n",
        "print(\" my_tuple\")"
      ]
    },
    {
      "cell_type": "code",
      "execution_count": null,
      "id": "d5192acc-27f3-456e-9c72-3b276a587bf5",
      "metadata": {
        "id": "d5192acc-27f3-456e-9c72-3b276a587bf5",
        "colab": {
          "base_uri": "https://localhost:8080/"
        },
        "outputId": "e51b242b-9fbf-43f8-a735-bab10421bb94"
      },
      "outputs": [
        {
          "output_type": "stream",
          "name": "stdout",
          "text": [
            "Tuple: (35, 40, 12, 75, 19, 50, 100)\n",
            "Maximum value: 100\n",
            "Minimum value: 12\n"
          ]
        }
      ],
      "source": [
        "from typing import Mapping\n",
        "# Write a Python program to find the maximum and minimum values in a tuple.\n",
        "numbers = (35, 40, 12, 75, 19, 50, 100)\n",
        "Max_value = max(numbers)\n",
        "min_value = min(numbers)\n",
        "print(\"Tuple:\", numbers)\n",
        "print(\"Maximum value:\", Max_value)\n",
        "print(\"Minimum value:\", min_value)"
      ]
    },
    {
      "cell_type": "code",
      "execution_count": 12,
      "id": "43f0a340-9407-4302-af7e-4e63db578bbf",
      "metadata": {
        "id": "43f0a340-9407-4302-af7e-4e63db578bbf",
        "outputId": "64b003e9-11cc-445c-947d-5207325d95c8",
        "colab": {
          "base_uri": "https://localhost:8080/"
        }
      },
      "outputs": [
        {
          "output_type": "stream",
          "name": "stdout",
          "text": [
            "value of a: 100\n",
            "value of b: 200\n",
            "value of c: 300\n"
          ]
        }
      ],
      "source": [
        "# Write a Python program to unpack a tuple into variables.\n",
        "my_tuple = (100, 200, 300)\n",
        "a, b, c = my_tuple\n",
        "print(\"value of a:\", a)\n",
        "print(\"value of b:\", b)\n",
        "print(\"value of c:\", c)"
      ]
    },
    {
      "cell_type": "code",
      "execution_count": 14,
      "id": "46e96e29-2157-4b9f-bb24-0bd973eada9f",
      "metadata": {
        "id": "46e96e29-2157-4b9f-bb24-0bd973eada9f",
        "outputId": "90181027-b2d5-4e20-e6b6-6f84e91a1aeb",
        "colab": {
          "base_uri": "https://localhost:8080/"
        }
      },
      "outputs": [
        {
          "output_type": "stream",
          "name": "stdout",
          "text": [
            "set after adding an element: {1, 2, 3, 4, 5, 6, 7, 8}\n",
            "4 exists in the set.\n"
          ]
        }
      ],
      "source": [
        "# Write a Python program to add an element to a set and check if an element exists in the set.\n",
        "my_set = {1, 2, 3, 4, 5, 6, 7}\n",
        "my_set.add(8)\n",
        "print(\"set after adding an element:\", my_set)\n",
        "element_to_check = 4\n",
        "if element_to_check in my_set:\n",
        "   print(f\"{element_to_check} exists in the set.\")\n",
        "else:\n",
        "  print(f\"{element_to_check} does not exists in the set.\")"
      ]
    },
    {
      "cell_type": "code",
      "execution_count": 15,
      "id": "d81a803b-fd80-403e-9ae3-680ef44a3d86",
      "metadata": {
        "id": "d81a803b-fd80-403e-9ae3-680ef44a3d86",
        "outputId": "46338c76-1330-4b5d-970f-e0135ba34b95",
        "colab": {
          "base_uri": "https://localhost:8080/"
        }
      },
      "outputs": [
        {
          "output_type": "stream",
          "name": "stdout",
          "text": [
            "Dictionary: {'Name': 'Alice', 'Age': 25, 'City': 'New York', 'Profession': 'Engineer'}\n"
          ]
        }
      ],
      "source": [
        "_# Write a Python program to create a dictionary with keys and values and print it.\n",
        "my_dict = {\n",
        "    \"Name\": \"Alice\",\n",
        "    \"Age\": 25,\n",
        "    \"City\": \"New York\",\n",
        "    \"Profession\": \"Engineer\"\n",
        "}\n",
        "print(\"Dictionary:\", my_dict)"
      ]
    },
    {
      "cell_type": "code",
      "execution_count": 19,
      "id": "7432174b-fe75-4371-b23a-e2c5d62edb15",
      "metadata": {
        "id": "7432174b-fe75-4371-b23a-e2c5d62edb15",
        "outputId": "ef6e9409-b956-47b6-b672-ef21b08b6794",
        "colab": {
          "base_uri": "https://localhost:8080/"
        }
      },
      "outputs": [
        {
          "output_type": "stream",
          "name": "stdout",
          "text": [
            "The value for the key 'City' is: Hyderabad\n"
          ]
        }
      ],
      "source": [
        "# Write a Python program to access a dictionary value using a key.\n",
        "my_dict = {\n",
        "    \"Name\": \"Trisha\",\n",
        "    \"Age\": 19,\n",
        "    \"City\": \"Hyderabad\",\n",
        "    \"Profession\": \"Dancer\"\n",
        "}\n",
        "key_to_access = \"City\"\n",
        "value = my_dict.get(key_to_access)\n",
        "if value:\n",
        "    print(f\"The value for the key '{key_to_access}' is: {value}\")\n",
        "else:\n",
        "    print(f\"The key '{key_to_access}' does not exist in the dictionary.\")\n"
      ]
    },
    {
      "cell_type": "code",
      "execution_count": 23,
      "id": "000b3260-d91f-41f2-9729-4b0124f2c4d2",
      "metadata": {
        "id": "000b3260-d91f-41f2-9729-4b0124f2c4d2",
        "outputId": "191cee4c-09bc-4850-c146-7789dbaaf17b",
        "colab": {
          "base_uri": "https://localhost:8080/"
        }
      },
      "outputs": [
        {
          "output_type": "stream",
          "name": "stdout",
          "text": [
            "The key 'Age' exists in the dictionary.\n"
          ]
        }
      ],
      "source": [
        "# Write a Python program to check if a key exists in a dictionary.\n",
        "my_dict = {\n",
        "    \"Name\": \"TRISHUSHA\",\n",
        "    \"Age\": 21,\n",
        "    \"City\": \"USA\",\n",
        "    \"Profession\": \"MBA\"\n",
        "}\n",
        "key_to_check = \"Age\"\n",
        "\n",
        "if key_to_check in my_dict:\n",
        "    print(f\"The key '{key_to_check}' exists in the dictionary.\")\n",
        "else:\n",
        "    print(f\"The key '{key_to_check}' does not exist in the dictionary.\")\n"
      ]
    },
    {
      "cell_type": "code",
      "execution_count": 2,
      "id": "c4b1a942-818e-42c1-b742-1fabe80fca6d",
      "metadata": {
        "id": "c4b1a942-818e-42c1-b742-1fabe80fca6d",
        "outputId": "48667eb5-d9a5-434b-ee6f-88cc688662f6",
        "colab": {
          "base_uri": "https://localhost:8080/"
        }
      },
      "outputs": [
        {
          "output_type": "stream",
          "name": "stdout",
          "text": [
            "Merged Dictionary (Method 1): {'Name': 'Ramya', 'Age': 25, 'City': 'Mumbai', 'Profession': 'Engineer'}\n",
            "Merged Dictionary (Method 2): {'Name': 'Ramya', 'Age': 25, 'City': 'Mumbai', 'Profession': 'Engineer'}\n"
          ]
        }
      ],
      "source": [
        "# Write a Python program to merge two dictionaries.\n",
        "\n",
        "dict1 = {\"Name\": \"Ramya\", \"Age\": 25}\n",
        "dict2 = {\"City\": \"Mumbai\", \"Profession\": \"Engineer\"}\n",
        "merged_dict = dict1.copy()\n",
        "merged_dict.update(dict2)\n",
        "print(\"Merged Dictionary (Method 1):\", merged_dict)\n",
        "merged_dict_alt = {**dict1, **dict2}\n",
        "print(\"Merged Dictionary (Method 2):\", merged_dict_alt)\n"
      ]
    },
    {
      "cell_type": "code",
      "execution_count": 6,
      "id": "a78f1070-3ff3-436a-8391-153f019f53cd",
      "metadata": {
        "id": "a78f1070-3ff3-436a-8391-153f019f53cd",
        "outputId": "b74ff1f9-0149-4658-dc90-1823bd16323e",
        "colab": {
          "base_uri": "https://localhost:8080/"
        }
      },
      "outputs": [
        {
          "output_type": "stream",
          "name": "stdout",
          "text": [
            "Key 'City' with value 'kerala' was removed.\n",
            "Updated Dictionary: {'Name': 'Saraswathi', 'Age': 42, 'Profession': 'Engineer'}\n"
          ]
        }
      ],
      "source": [
        "# Write a Python program to remove a key from a dictionary.\n",
        "my_dict = {\n",
        "    \"Name\": \"Saraswathi\",\n",
        "    \"Age\": 42,\n",
        "    \"City\": \"kerala\",\n",
        "    \"Profession\": \"Engineer\"\n",
        "}\n",
        "key_to_remove = \"City\"\n",
        "if key_to_remove in my_dict:\n",
        "    removed_value = my_dict.pop(key_to_remove)\n",
        "    print(f\"Key '{key_to_remove}' with value '{removed_value}' was removed.\")\n",
        "else:\n",
        "    print(f\"Key '{key_to_remove}' does not exist.\")\n",
        "print(\"Updated Dictionary:\", my_dict)"
      ]
    },
    {
      "cell_type": "code",
      "execution_count": 7,
      "id": "fcba0267-8cc4-4e89-9e78-2d820916c177",
      "metadata": {
        "id": "fcba0267-8cc4-4e89-9e78-2d820916c177",
        "outputId": "d86a3e5c-497e-4e75-fa1a-433290d97abb",
        "colab": {
          "base_uri": "https://localhost:8080/"
        }
      },
      "outputs": [
        {
          "output_type": "stream",
          "name": "stdout",
          "text": [
            "The number of keys in the dictionary is: 4\n"
          ]
        }
      ],
      "source": [
        "# Write a Python program to get the number of keys in a dictionary.\n",
        "my_dict = {\n",
        "    \"Name\": \"Ammulu\",\n",
        "    \"Age\": 25,\n",
        "    \"City\": \"chennai\",\n",
        "    \"Profession\": \"Engineer\"\n",
        "}\n",
        "num_keys = len(my_dict)\n",
        "print(f\"The number of keys in the dictionary is: {num_keys}\")"
      ]
    },
    {
      "cell_type": "code",
      "execution_count": 10,
      "id": "d4c5fd77-9656-43e5-8fe2-be7dca23eb6d",
      "metadata": {
        "id": "d4c5fd77-9656-43e5-8fe2-be7dca23eb6d",
        "outputId": "4dc5c0fd-560c-4318-edca-fd5c3bd36e51",
        "colab": {
          "base_uri": "https://localhost:8080/"
        }
      },
      "outputs": [
        {
          "output_type": "stream",
          "name": "stdout",
          "text": [
            "Dictionary: {'a': 100, 'b': 65, 'c': 35, 'd': 55}\n",
            "Largest value: 100\n",
            "Smallest value: 35\n"
          ]
        }
      ],
      "source": [
        "# Write a Python program to find the largest and smallest values in a dictionary.\n",
        "my_dict = {\n",
        "    \"a\": 100,\n",
        "    \"b\": 65,\n",
        "    \"c\": 35,\n",
        "    \"d\": 55\n",
        "}\n",
        "largest_value = max(my_dict.values())\n",
        "smallest_value = min(my_dict.values())\n",
        "print(\"Dictionary:\", my_dict)\n",
        "print(\"Largest value:\", largest_value)\n",
        "print(\"Smallest value:\", smallest_value)"
      ]
    },
    {
      "cell_type": "markdown",
      "id": "7830b8cc-9a90-45a2-8e4a-6f3c2b8b133b",
      "metadata": {
        "id": "7830b8cc-9a90-45a2-8e4a-6f3c2b8b133b"
      },
      "source": [
        "## Functions (User-Defined, Arguments, Keyword Arguments, Return Values)"
      ]
    },
    {
      "cell_type": "code",
      "execution_count": 12,
      "id": "06a33fba-c6b1-4989-90f4-b647d1fe1627",
      "metadata": {
        "id": "06a33fba-c6b1-4989-90f4-b647d1fe1627",
        "outputId": "17189990-b083-4f61-cc0e-18ac773a9fa1",
        "colab": {
          "base_uri": "https://localhost:8080/"
        }
      },
      "outputs": [
        {
          "output_type": "stream",
          "name": "stdout",
          "text": [
            "The square of 7 is: 49\n"
          ]
        }
      ],
      "source": [
        "# Write a Python function that returns the square of a number.\n",
        "def square(num):\n",
        "    return num ** 2\n",
        "number = 7\n",
        "result = square(number)\n",
        "print(f\"The square of {number} is: {result}\")"
      ]
    },
    {
      "cell_type": "code",
      "execution_count": 16,
      "id": "91d90a4a-7329-45db-893b-caed8450ba96",
      "metadata": {
        "id": "91d90a4a-7329-45db-893b-caed8450ba96",
        "outputId": "0b88ac65-b719-4c29-ad80-b6b366c622f2",
        "colab": {
          "base_uri": "https://localhost:8080/"
        }
      },
      "outputs": [
        {
          "output_type": "stream",
          "name": "stdout",
          "text": [
            "The sum of 6 and 16 is: 22\n"
          ]
        }
      ],
      "source": [
        "# Write a Python function that accepts two parameters and returns their sum.\n",
        "def add_numbers(a, b):\n",
        "    return a + b\n",
        "num1 = 6\n",
        "num2 = 16\n",
        "result = add_numbers(num1, num2)\n",
        "print(f\"The sum of {num1} and {num2} is: {result}\")"
      ]
    },
    {
      "cell_type": "code",
      "execution_count": 24,
      "id": "dec2f9a5-90c5-478b-890b-0a506ecf45d3",
      "metadata": {
        "id": "dec2f9a5-90c5-478b-890b-0a506ecf45d3",
        "outputId": "d8ca4ed0-a482-42fc-9e5e-a632de9d0ed7",
        "colab": {
          "base_uri": "https://localhost:8080/"
        }
      },
      "outputs": [
        {
          "output_type": "stream",
          "name": "stdout",
          "text": [
            "7 is a prime number.\n"
          ]
        }
      ],
      "source": [
        "# Write a Python function to check if a given number is prime.\n",
        "def is_prime(num):\n",
        "    if num <= 1:\n",
        "        return False\n",
        "    for i in range(2, int(num ** 0.5) + 1):\n",
        "        if num % i == 0:\n",
        "            return False\n",
        "    return True\n",
        "number = 7\n",
        "if is_prime(number):\n",
        "    print(f\"{number} is a prime number.\")\n",
        "else:\n",
        "    print(f\"{number} is not a prime number.\")"
      ]
    },
    {
      "cell_type": "code",
      "execution_count": 26,
      "id": "56337441-68c3-45df-8733-a34cde0533a5",
      "metadata": {
        "id": "56337441-68c3-45df-8733-a34cde0533a5",
        "outputId": "b92ea842-0ca6-4b2b-d77e-cc3ca6fa1011",
        "colab": {
          "base_uri": "https://localhost:8080/"
        }
      },
      "outputs": [
        {
          "output_type": "stream",
          "name": "stdout",
          "text": [
            "The factorial of 62 is: 31469973260387937525653122354950764088012280797258232192163168247821107200000000000000\n"
          ]
        }
      ],
      "source": [
        "# Write a Python function to calculate the factorial of a number using recursion.\n",
        "def factorial(n):\n",
        "    if n == 0:\n",
        "        return 1\n",
        "    else:\n",
        "        return n * factorial(n - 1)\n",
        "number = 62\n",
        "result = factorial(number)\n",
        "print(f\"The factorial of {number} is: {result}\")"
      ]
    },
    {
      "cell_type": "code",
      "execution_count": 28,
      "id": "84a2d010-e7b2-409b-b1f4-99bf806bb77a",
      "metadata": {
        "id": "84a2d010-e7b2-409b-b1f4-99bf806bb77a",
        "outputId": "d7f6d2d2-71cf-4d52-e191-ffcd118a985f",
        "colab": {
          "base_uri": "https://localhost:8080/"
        }
      },
      "outputs": [
        {
          "output_type": "stream",
          "name": "stdout",
          "text": [
            "18 to the power of 9 is: 198359290368\n"
          ]
        }
      ],
      "source": [
        "# Write a Python function to calculate the power of a number using recursion.\n",
        "def power(base, exponent):\n",
        "    if exponent == 0:\n",
        "        return 1\n",
        "    elif exponent < 0:\n",
        "        return 1 / power(base, -exponent)\n",
        "    else:\n",
        "        return base * power(base, exponent - 1)\n",
        "base = 18\n",
        "exponent = 9\n",
        "result = power(base, exponent)\n",
        "print(f\"{base} to the power of {exponent} is: {result}\")"
      ]
    },
    {
      "cell_type": "code",
      "execution_count": 30,
      "id": "ec44911e-7820-46cc-96a3-4ca443888837",
      "metadata": {
        "id": "ec44911e-7820-46cc-96a3-4ca443888837",
        "outputId": "608ad016-729e-4494-d2b3-650860f0819b",
        "colab": {
          "base_uri": "https://localhost:8080/"
        }
      },
      "outputs": [
        {
          "output_type": "stream",
          "name": "stdout",
          "text": [
            "The length of the list is: 7\n"
          ]
        }
      ],
      "source": [
        "# Write a Python function to accept a list and return its length without using the built-in len() function.\n",
        "def custom_length(lst):\n",
        "    count = 0\n",
        "    for _ in lst:\n",
        "        count += 1\n",
        "    return count\n",
        "my_list = [1, 2, 3, 4, 5, 6, 7]\n",
        "result = custom_length(my_list)\n",
        "print(f\"The length of the list is: {result}\")"
      ]
    },
    {
      "cell_type": "code",
      "execution_count": 32,
      "id": "fb4c08e1-34f3-487a-a1c6-77cd60fb4836",
      "metadata": {
        "id": "fb4c08e1-34f3-487a-a1c6-77cd60fb4836",
        "outputId": "c181c55f-286d-4e20-d7a9-6bc17174cd33",
        "colab": {
          "base_uri": "https://localhost:8080/"
        }
      },
      "outputs": [
        {
          "output_type": "stream",
          "name": "stdout",
          "text": [
            "The sum of the positional arguments is: 15\n"
          ]
        }
      ],
      "source": [
        "# Write a Python function that accepts both positional and keyword arguments and prints the sum of positional arguments.\n",
        "def sum_positional(*args, **kwargs):\n",
        "    total = sum(args)\n",
        "    print(f\"The sum of the positional arguments is: {total}\")\n",
        "sum_positional(1, 2, 3, 4, 5, name=\"Akkila\", age=25)\n"
      ]
    },
    {
      "cell_type": "code",
      "execution_count": 33,
      "id": "f4ffc7a8-f579-461c-b507-4085a0477283",
      "metadata": {
        "id": "f4ffc7a8-f579-461c-b507-4085a0477283",
        "outputId": "88f0b498-4a5c-4b87-91fd-4d6bb2c39a87",
        "colab": {
          "base_uri": "https://localhost:8080/"
        }
      },
      "outputs": [
        {
          "output_type": "stream",
          "name": "stdout",
          "text": [
            "The maximum of the two numbers is: 420\n"
          ]
        }
      ],
      "source": [
        "# Write a Python function to find the maximum of two numbers using keyword arguments.\n",
        "def find_maximum(**kwargs):\n",
        "    num1 = kwargs.get('num1')\n",
        "    num2 = kwargs.get('num2')\n",
        "    if num1 is None or num2 is None:\n",
        "        return \"Please provide both 'num1' and 'num2' as keyword arguments.\"\n",
        "    return max(num1, num2)\n",
        "result = find_maximum(num1=108, num2=420)\n",
        "print(f\"The maximum of the two numbers is: {result}\")\n"
      ]
    },
    {
      "cell_type": "code",
      "execution_count": 35,
      "id": "0b00c4af-89e0-43e8-a991-1b684d2ce33f",
      "metadata": {
        "id": "0b00c4af-89e0-43e8-a991-1b684d2ce33f",
        "outputId": "9fbd0045-6035-43e8-d151-4dfe66ed8775",
        "colab": {
          "base_uri": "https://localhost:8080/"
        }
      },
      "outputs": [
        {
          "output_type": "stream",
          "name": "stdout",
          "text": [
            "The product of the numbers is: None\n"
          ]
        }
      ],
      "source": [
        "# Write a Python function that accepts a list of numbers and returns their product.\n",
        "def calculate_product(numbers):\n",
        "    product = 1\n",
        "    for num in numbers:\n",
        "        product *= num\n",
        "    return\n",
        "    product\n",
        "numbers_list = [1, 2, 3, 4, 5, 6]\n",
        "result = calculate_product(numbers_list)\n",
        "print(f\"The product of the numbers is: {result}\")"
      ]
    },
    {
      "cell_type": "code",
      "execution_count": 38,
      "id": "9cd11703-5b48-44fe-af4e-ea906a2762c9",
      "metadata": {
        "id": "9cd11703-5b48-44fe-af4e-ea906a2762c9",
        "outputId": "f307ddd9-f4f2-4825-960e-d2da7e2c6e7d",
        "colab": {
          "base_uri": "https://localhost:8080/"
        }
      },
      "outputs": [
        {
          "output_type": "stream",
          "name": "stdout",
          "text": [
            "14 is even.\n",
            "99 is odd.\n"
          ]
        }
      ],
      "source": [
        "# Write a Python function to check if a number is even or odd using the modulo operator.\n",
        "def check_even_odd(number):\n",
        "    if number % 2 == 0:\n",
        "        return f\"{number} is even.\"\n",
        "    else:\n",
        "        return f\"{number} is odd.\"\n",
        "\n",
        "result = check_even_odd(14)\n",
        "print(result)\n",
        "\n",
        "result = check_even_odd(99)\n",
        "print(result)\n"
      ]
    },
    {
      "cell_type": "code",
      "execution_count": 40,
      "id": "afbf262e-daed-40a9-827f-82fa60979610",
      "metadata": {
        "id": "afbf262e-daed-40a9-827f-82fa60979610",
        "outputId": "99e76b1e-f260-4278-927b-e4fdda54a5a3",
        "colab": {
          "base_uri": "https://localhost:8080/"
        }
      },
      "outputs": [
        {
          "output_type": "stream",
          "name": "stdout",
          "text": [
            "[1, 4, 9, 16, 25, 36, 49, 64, 81, 100, 121, 144, 169, 196, 225, 256, 289, 324, 361, 400, 441, 484, 529, 576, 625, 676, 729, 784, 841, 900, 961, 1024]\n"
          ]
        }
      ],
      "source": [
        "# Write a Python program to create a list of squares of numbers from 1 to 10 using list comprehension.\n",
        "squares = [x ** 2 for x in range(1, 33)]\n",
        "print(squares)"
      ]
    },
    {
      "cell_type": "code",
      "execution_count": 42,
      "id": "7fff76d8-9ba8-4006-9be6-6f7350092d1c",
      "metadata": {
        "id": "7fff76d8-9ba8-4006-9be6-6f7350092d1c",
        "outputId": "d57a4e5f-86a9-4231-c92d-2ae9ac70dfb4",
        "colab": {
          "base_uri": "https://localhost:8080/"
        }
      },
      "outputs": [
        {
          "output_type": "stream",
          "name": "stdout",
          "text": [
            "[2, 4, 6, 8, 10, 12, 14]\n"
          ]
        }
      ],
      "source": [
        "# Write a Python program to filter out all even numbers from a list using list comprehension.\n",
        "numbers = [1, 2, 3, 4, 5, 6, 7, 8, 9, 10, 11, 12, 13, 14, 15]\n",
        "even_numbers = [num for num in numbers if num % 2 == 0]\n",
        "print(even_numbers)"
      ]
    },
    {
      "cell_type": "code",
      "execution_count": 44,
      "id": "6ae9b8df-38f9-4fd7-bad1-aa7b07cc9271",
      "metadata": {
        "id": "6ae9b8df-38f9-4fd7-bad1-aa7b07cc9271",
        "outputId": "9c97edc1-24b3-45ba-a802-cc5848f2bae2",
        "colab": {
          "base_uri": "https://localhost:8080/"
        }
      },
      "outputs": [
        {
          "output_type": "stream",
          "name": "stdout",
          "text": [
            "['devops', 'computer networks', 'skill development', 'maths', 'history']\n"
          ]
        }
      ],
      "source": [
        "# Write a Python program to create a list of strings that are longer than 4 characters from a given list of words using list comprehension.\n",
        "words = [\"devops\", \"computer networks\", \"skill development\", \"java\", \"maths\", \"history\", \"aiml\"]\n",
        "long_words = [word for word in words if len(word) > 4]\n",
        "print(long_words)"
      ]
    },
    {
      "cell_type": "code",
      "execution_count": 47,
      "id": "f492c7d4-6ad3-48ab-9b61-232be02aecee",
      "metadata": {
        "id": "f492c7d4-6ad3-48ab-9b61-232be02aecee",
        "outputId": "116a6b51-650b-46c3-9764-eaae6361314b",
        "colab": {
          "base_uri": "https://localhost:8080/"
        }
      },
      "outputs": [
        {
          "output_type": "stream",
          "name": "stdout",
          "text": [
            "Uppercase letters in the string: ['H', 'W', 'H', 'S', 'H']\n"
          ]
        }
      ],
      "source": [
        "# Write a Python program to create a list of all uppercase letters in a string using list comprehension.\n",
        "def get_uppercase_letters(input_string):\n",
        "    uppercase_letters = [char for char in input_string if char.isupper()]\n",
        "    return uppercase_letters\n",
        "\n",
        "input_string = \"Hello World! Hello is the Same as Hello.\"\n",
        "result = get_uppercase_letters(input_string)\n",
        "print(\"Uppercase letters in the string:\", result)\n"
      ]
    },
    {
      "cell_type": "code",
      "execution_count": 50,
      "id": "929a7f74-1762-4a2a-be23-bacf67ff4d8b",
      "metadata": {
        "id": "929a7f74-1762-4a2a-be23-bacf67ff4d8b",
        "outputId": "0a9f4de8-2ec3-4ba5-98e7-9540a84bc849",
        "colab": {
          "base_uri": "https://localhost:8080/"
        }
      },
      "outputs": [
        {
          "output_type": "stream",
          "name": "stdout",
          "text": [
            "The first 15 Fibonacci numbers are: [0, 1, 1, 2, 3, 5, 8, 13, 21, 34, 55, 89, 144, 233, 377]\n"
          ]
        }
      ],
      "source": [
        "# Write a Python program to generate the first n Fibonacci numbers using list comprehension.\n",
        "def fibonacci_numbers(n):\n",
        "    fib = [0, 1]\n",
        "    [fib.append(fib[-1] + fib[-2]) for _ in range(2, n)]\n",
        "    return fib[:n]\n",
        "n = 15\n",
        "result = fibonacci_numbers(n)\n",
        "print(f\"The first {n} Fibonacci numbers are: {result}\")\n"
      ]
    },
    {
      "cell_type": "code",
      "execution_count": 52,
      "id": "47188bbc-cf62-47bb-a14e-0582c8b5cdd9",
      "metadata": {
        "id": "47188bbc-cf62-47bb-a14e-0582c8b5cdd9",
        "outputId": "efb5a98e-ddb8-43b7-ad83-6b8c322f7d8c",
        "colab": {
          "base_uri": "https://localhost:8080/"
        }
      },
      "outputs": [
        {
          "output_type": "stream",
          "name": "stdout",
          "text": [
            "Dictionary of numbers and their squares up to 5: {1: 1, 2: 4, 3: 9, 4: 16, 5: 25}\n"
          ]
        }
      ],
      "source": [
        "# Write a Python program to create a dictionary where keys are numbers and values are their squares using dictionary comprehension.\n",
        "def create_square_dict(n):\n",
        "    square_dict = {x: x**2 for x in range(1, n+1)}\n",
        "    return square_dict\n",
        "n = 5\n",
        "result = create_square_dict(n)\n",
        "print(f\"Dictionary of numbers and their squares up to {n}: {result}\")\n"
      ]
    },
    {
      "cell_type": "code",
      "execution_count": 54,
      "id": "3c4637d3-aa85-4b4c-acf3-953c10818bcb",
      "metadata": {
        "id": "3c4637d3-aa85-4b4c-acf3-953c10818bcb",
        "outputId": "075e864c-2591-4302-a217-af51384e9e1b",
        "colab": {
          "base_uri": "https://localhost:8080/"
        }
      },
      "outputs": [
        {
          "output_type": "stream",
          "name": "stdout",
          "text": [
            "{'a': 2, 'b': 4, 'c': 6, 'd': 8}\n"
          ]
        }
      ],
      "source": [
        "# Write a Python program to create a dictionary from two lists (one for keys and one for values) using dictionary comprehension.\n",
        "keys = [\"a\", \"b\", \"c\", \"d\"]\n",
        "values = [2, 4, 6, 8]\n",
        "result = {key: value for key, value in zip(keys, values)}\n",
        "print(result)"
      ]
    },
    {
      "cell_type": "code",
      "execution_count": 55,
      "id": "de817d6f-96e7-4346-839e-1ef0df539b6b",
      "metadata": {
        "id": "de817d6f-96e7-4346-839e-1ef0df539b6b",
        "outputId": "6ba59b92-5a2a-413f-f852-30da5846eec8",
        "colab": {
          "base_uri": "https://localhost:8080/"
        }
      },
      "outputs": [
        {
          "output_type": "stream",
          "name": "stdout",
          "text": [
            "Dictionary of numbers and their cubes: {1: 1, 2: 8, 3: 27, 4: 64, 5: 125}\n"
          ]
        }
      ],
      "source": [
        "# Write a Python program to create a dictionary of numbers from 1 to 5 and their cubes using dictionary comprehension.\n",
        "def create_cube_dict():\n",
        "    cube_dict = {x: x**3 for x in range(1, 6)}\n",
        "    return cube_dict\n",
        "result = create_cube_dict()\n",
        "print(f\"Dictionary of numbers and their cubes: {result}\")"
      ]
    },
    {
      "cell_type": "code",
      "execution_count": 57,
      "id": "33695301-057e-49a6-9f80-a2f4e3af60ed",
      "metadata": {
        "id": "33695301-057e-49a6-9f80-a2f4e3af60ed",
        "outputId": "b031045f-56af-48ac-c51d-eb6d60e05437",
        "colab": {
          "base_uri": "https://localhost:8080/"
        }
      },
      "outputs": [
        {
          "output_type": "stream",
          "name": "stdout",
          "text": [
            "Squared elements of the list: [1, 4, 9, 16, 25, 36, 49]\n"
          ]
        }
      ],
      "source": [
        "# Write a Python program to square each element of a list using the map() function.\n",
        "def square_elements(input_list):\n",
        "    return list(map(lambda x: x**2, input_list))\n",
        "input_list = [1, 2, 3, 4, 5, 6, 7]\n",
        "result = square_elements(input_list)\n",
        "print(f\"Squared elements of the list: {result}\")\n"
      ]
    },
    {
      "cell_type": "code",
      "execution_count": 59,
      "id": "6d4d17f3-c40f-4944-8656-c6416b600361",
      "metadata": {
        "id": "6d4d17f3-c40f-4944-8656-c6416b600361",
        "outputId": "3a112919-13dd-4ced-ec2a-f524ca0fcd3d",
        "colab": {
          "base_uri": "https://localhost:8080/"
        }
      },
      "outputs": [
        {
          "output_type": "stream",
          "name": "stdout",
          "text": [
            "Even numbers from the list: [2, 4, 6, 8, 10, 12, 14]\n"
          ]
        }
      ],
      "source": [
        "# Write a Python program to filter all even numbers from a list using the filter() function.\n",
        "def filter_even_numbers(input_list):\n",
        "    return list(filter(lambda x: x % 2 == 0, input_list))\n",
        "\n",
        "input_list = [1, 2, 3, 4, 5, 6, 7, 8, 9, 10, 11, 12, 13, 14, 15]\n",
        "result = filter_even_numbers(input_list)\n",
        "print(f\"Even numbers from the list: {result}\")\n"
      ]
    },
    {
      "cell_type": "code",
      "execution_count": null,
      "id": "6634ba1f-9f81-475e-b7c4-422d102afb75",
      "metadata": {
        "id": "6634ba1f-9f81-475e-b7c4-422d102afb75"
      },
      "outputs": [],
      "source": [
        "# Write a Python program to use a lambda function to check if a number is divisible by both 3 and 5.\n"
      ]
    },
    {
      "cell_type": "code",
      "execution_count": null,
      "id": "0aac8430-5d77-439d-9a99-9598fadf989c",
      "metadata": {
        "id": "0aac8430-5d77-439d-9a99-9598fadf989c"
      },
      "outputs": [],
      "source": [
        "# Write a Python program to multiply all numbers in a list by 2 using a lambda function inside map()."
      ]
    },
    {
      "cell_type": "code",
      "execution_count": null,
      "id": "e4cd5ba8-c6ec-4f0d-8787-bf0a4b7a2e22",
      "metadata": {
        "id": "e4cd5ba8-c6ec-4f0d-8787-bf0a4b7a2e22"
      },
      "outputs": [],
      "source": [
        "# Write a Python program to remove all occurrences of a specific element from a list."
      ]
    },
    {
      "cell_type": "markdown",
      "id": "caba77c7-93db-4893-8f48-c7365ed5c585",
      "metadata": {
        "id": "caba77c7-93db-4893-8f48-c7365ed5c585"
      },
      "source": [
        "**Note:**\n",
        "- All assignments must follow [PEP 8 – Style Guide for Python Code](https://peps.python.org/pep-0008/) guidelines.\n",
        "- You can add multiple solutions for each question. Create a new code cell next to the question and add it. Shortcut for creating cell : `Alt + Enter`"
      ]
    }
  ],
  "metadata": {
    "kernelspec": {
      "display_name": "Python 3 (ipykernel)",
      "language": "python",
      "name": "python3"
    },
    "language_info": {
      "codemirror_mode": {
        "name": "ipython",
        "version": 3
      },
      "file_extension": ".py",
      "mimetype": "text/x-python",
      "name": "python",
      "nbconvert_exporter": "python",
      "pygments_lexer": "ipython3",
      "version": "3.12.6"
    },
    "colab": {
      "provenance": [],
      "include_colab_link": true
    }
  },
  "nbformat": 4,
  "nbformat_minor": 5
}
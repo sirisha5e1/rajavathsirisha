{
  "cells": [
    {
      "cell_type": "markdown",
      "metadata": {
        "id": "view-in-github",
        "colab_type": "text"
      },
      "source": [
        "<a href=\"https://colab.research.google.com/github/sirisha5e1/rajavathsirisha/blob/main/assignments/100_Numpy_exercises.ipynb\" target=\"_parent\"><img src=\"https://colab.research.google.com/assets/colab-badge.svg\" alt=\"Open In Colab\"/></a>"
      ]
    },
    {
      "cell_type": "markdown",
      "id": "6293cc50",
      "metadata": {
        "id": "6293cc50"
      },
      "source": [
        "# 100 numpy exercises\n",
        "\n",
        "This is a collection of exercises that have been collected in the numpy mailing list, on stack overflow\n",
        "and in the numpy documentation. The goal of this collection is to offer a quick reference for both old\n",
        "and new users but also to provide a set of exercises for those who teach.\n",
        "\n",
        "\n",
        "If you find an error or think you've a better way to solve some of them, feel\n",
        "free to open an issue at <https://github.com/rougier/numpy-100>."
      ]
    },
    {
      "cell_type": "markdown",
      "id": "a167c052",
      "metadata": {
        "id": "a167c052"
      },
      "source": [
        "File automatically generated. See the documentation to update questions/answers/hints programmatically."
      ]
    },
    {
      "cell_type": "markdown",
      "id": "57fc0ee5",
      "metadata": {
        "id": "57fc0ee5"
      },
      "source": [
        "Run the `initialize.py` module, then for each question you can query the\n",
        "answer or an hint with `hint(n)` or `answer(n)` for `n` question number."
      ]
    },
    {
      "cell_type": "code",
      "source": [
        "%run initialise.py"
      ],
      "metadata": {
        "id": "ieWXk8cAEgCv"
      },
      "id": "ieWXk8cAEgCv",
      "execution_count": null,
      "outputs": []
    },
    {
      "cell_type": "markdown",
      "id": "3c1222ff",
      "metadata": {
        "id": "3c1222ff"
      },
      "source": [
        "#### 1. Import the numpy package under the name `np` (★☆☆)"
      ]
    },
    {
      "cell_type": "code",
      "execution_count": null,
      "id": "f52e6a0b",
      "metadata": {
        "id": "f52e6a0b"
      },
      "outputs": [],
      "source": [
        "import numpy as np"
      ]
    },
    {
      "cell_type": "markdown",
      "id": "9d9f4753",
      "metadata": {
        "id": "9d9f4753"
      },
      "source": [
        "#### 2. Print the numpy version and the configuration (★☆☆)"
      ]
    },
    {
      "cell_type": "code",
      "execution_count": null,
      "id": "b7fa5fa1",
      "metadata": {
        "id": "b7fa5fa1",
        "colab": {
          "base_uri": "https://localhost:8080/"
        },
        "outputId": "505c6a1d-519b-4a61-ad2c-d9e3b7452800"
      },
      "outputs": [
        {
          "output_type": "stream",
          "name": "stdout",
          "text": [
            "1.26.4\n",
            "Build Dependencies:\n",
            "  blas:\n",
            "    detection method: pkgconfig\n",
            "    found: true\n",
            "    include directory: /usr/local/include\n",
            "    lib directory: /usr/local/lib\n",
            "    name: openblas64\n",
            "    openblas configuration: USE_64BITINT=1 DYNAMIC_ARCH=1 DYNAMIC_OLDER= NO_CBLAS=\n",
            "      NO_LAPACK= NO_LAPACKE= NO_AFFINITY=1 USE_OPENMP= HASWELL MAX_THREADS=2\n",
            "    pc file directory: /usr/local/lib/pkgconfig\n",
            "    version: 0.3.23.dev\n",
            "  lapack:\n",
            "    detection method: internal\n",
            "    found: true\n",
            "    include directory: unknown\n",
            "    lib directory: unknown\n",
            "    name: dep139863411681952\n",
            "    openblas configuration: unknown\n",
            "    pc file directory: unknown\n",
            "    version: 1.26.4\n",
            "Compilers:\n",
            "  c:\n",
            "    args: -fno-strict-aliasing\n",
            "    commands: cc\n",
            "    linker: ld.bfd\n",
            "    linker args: -Wl,--strip-debug, -fno-strict-aliasing\n",
            "    name: gcc\n",
            "    version: 10.2.1\n",
            "  c++:\n",
            "    commands: c++\n",
            "    linker: ld.bfd\n",
            "    linker args: -Wl,--strip-debug\n",
            "    name: gcc\n",
            "    version: 10.2.1\n",
            "  cython:\n",
            "    commands: cython\n",
            "    linker: cython\n",
            "    name: cython\n",
            "    version: 3.0.8\n",
            "Machine Information:\n",
            "  build:\n",
            "    cpu: x86_64\n",
            "    endian: little\n",
            "    family: x86_64\n",
            "    system: linux\n",
            "  host:\n",
            "    cpu: x86_64\n",
            "    endian: little\n",
            "    family: x86_64\n",
            "    system: linux\n",
            "Python Information:\n",
            "  path: /opt/python/cp310-cp310/bin/python\n",
            "  version: '3.10'\n",
            "SIMD Extensions:\n",
            "  baseline:\n",
            "  - SSE\n",
            "  - SSE2\n",
            "  - SSE3\n",
            "  found:\n",
            "  - SSSE3\n",
            "  - SSE41\n",
            "  - POPCNT\n",
            "  - SSE42\n",
            "  - AVX\n",
            "  - F16C\n",
            "  - FMA3\n",
            "  - AVX2\n",
            "  not found:\n",
            "  - AVX512F\n",
            "  - AVX512CD\n",
            "  - AVX512_KNL\n",
            "  - AVX512_KNM\n",
            "  - AVX512_SKX\n",
            "  - AVX512_CLX\n",
            "  - AVX512_CNL\n",
            "  - AVX512_ICL\n",
            "\n",
            "None\n"
          ]
        }
      ],
      "source": [
        "import numpy as np\n",
        "print(np.__version__)\n",
        "print(np.show_config())"
      ]
    },
    {
      "cell_type": "markdown",
      "id": "3e4c23c6",
      "metadata": {
        "id": "3e4c23c6"
      },
      "source": [
        "#### 3. Create a null vector of size 10 (★☆☆)"
      ]
    },
    {
      "cell_type": "code",
      "execution_count": null,
      "id": "083c5c46",
      "metadata": {
        "id": "083c5c46",
        "colab": {
          "base_uri": "https://localhost:8080/"
        },
        "outputId": "25411a1a-ec28-454f-9018-2db0c7493f65"
      },
      "outputs": [
        {
          "output_type": "stream",
          "name": "stdout",
          "text": [
            "[0. 0. 0. 0. 0. 0. 0. 0. 0. 0.]\n"
          ]
        }
      ],
      "source": [
        "import numpy as np\n",
        "x=np.zeros(10)\n",
        "print(x)"
      ]
    },
    {
      "cell_type": "markdown",
      "id": "c38bbe82",
      "metadata": {
        "id": "c38bbe82"
      },
      "source": [
        "#### 4. How to find the memory size of any array (★☆☆)"
      ]
    },
    {
      "cell_type": "code",
      "execution_count": null,
      "id": "02b04021",
      "metadata": {
        "id": "02b04021",
        "colab": {
          "base_uri": "https://localhost:8080/"
        },
        "outputId": "33a89609-66e3-403c-eaa9-e09dd5e70cb1"
      },
      "outputs": [
        {
          "output_type": "stream",
          "name": "stdout",
          "text": [
            "Size of the array: 3\n",
            "Memory size of one array element in bytes: 8\n",
            "Memory size of numpy array in bytes: 24\n"
          ]
        }
      ],
      "source": [
        "import numpy as np\n",
        "x=np.array([100,20,34])\n",
        "print(\"Size of the array:\",x.size)\n",
        "print(\"Memory size of one array element in bytes:\",x.itemsize)\n",
        "print(\"Memory size of numpy array in bytes:\",x.size*x.itemsize)"
      ]
    },
    {
      "cell_type": "markdown",
      "id": "67f893d4",
      "metadata": {
        "id": "67f893d4"
      },
      "source": [
        "#### 5. How to get the documentation of the numpy add function from the command line? (★☆☆)"
      ]
    },
    {
      "cell_type": "code",
      "execution_count": null,
      "id": "40e6b70d",
      "metadata": {
        "id": "40e6b70d",
        "colab": {
          "base_uri": "https://localhost:8080/"
        },
        "collapsed": true,
        "outputId": "4addb809-aa77-4cd9-e945-db83bf25b720"
      },
      "outputs": [
        {
          "output_type": "stream",
          "name": "stdout",
          "text": [
            "Help on ufunc:\n",
            "\n",
            "add = <ufunc 'add'>\n",
            "    add(x1, x2, /, out=None, *, where=True, casting='same_kind', order='K', dtype=None, subok=True[, signature, extobj])\n",
            "    \n",
            "    Add arguments element-wise.\n",
            "    \n",
            "    Parameters\n",
            "    ----------\n",
            "    x1, x2 : array_like\n",
            "        The arrays to be added.\n",
            "        If ``x1.shape != x2.shape``, they must be broadcastable to a common\n",
            "        shape (which becomes the shape of the output).\n",
            "    out : ndarray, None, or tuple of ndarray and None, optional\n",
            "        A location into which the result is stored. If provided, it must have\n",
            "        a shape that the inputs broadcast to. If not provided or None,\n",
            "        a freshly-allocated array is returned. A tuple (possible only as a\n",
            "        keyword argument) must have length equal to the number of outputs.\n",
            "    where : array_like, optional\n",
            "        This condition is broadcast over the input. At locations where the\n",
            "        condition is True, the `out` array will be set to the ufunc result.\n",
            "        Elsewhere, the `out` array will retain its original value.\n",
            "        Note that if an uninitialized `out` array is created via the default\n",
            "        ``out=None``, locations within it where the condition is False will\n",
            "        remain uninitialized.\n",
            "    **kwargs\n",
            "        For other keyword-only arguments, see the\n",
            "        :ref:`ufunc docs <ufuncs.kwargs>`.\n",
            "    \n",
            "    Returns\n",
            "    -------\n",
            "    add : ndarray or scalar\n",
            "        The sum of `x1` and `x2`, element-wise.\n",
            "        This is a scalar if both `x1` and `x2` are scalars.\n",
            "    \n",
            "    Notes\n",
            "    -----\n",
            "    Equivalent to `x1` + `x2` in terms of array broadcasting.\n",
            "    \n",
            "    Examples\n",
            "    --------\n",
            "    >>> np.add(1.0, 4.0)\n",
            "    5.0\n",
            "    >>> x1 = np.arange(9.0).reshape((3, 3))\n",
            "    >>> x2 = np.arange(3.0)\n",
            "    >>> np.add(x1, x2)\n",
            "    array([[  0.,   2.,   4.],\n",
            "           [  3.,   5.,   7.],\n",
            "           [  6.,   8.,  10.]])\n",
            "    \n",
            "    The ``+`` operator can be used as a shorthand for ``np.add`` on ndarrays.\n",
            "    \n",
            "    >>> x1 = np.arange(9.0).reshape((3, 3))\n",
            "    >>> x2 = np.arange(3.0)\n",
            "    >>> x1 + x2\n",
            "    array([[ 0.,  2.,  4.],\n",
            "           [ 3.,  5.,  7.],\n",
            "           [ 6.,  8., 10.]])\n",
            "\n"
          ]
        }
      ],
      "source": [
        "import numpy as np\n",
        "help(np.add)"
      ]
    },
    {
      "cell_type": "code",
      "source": [
        "import numpy as np\n",
        "\n",
        "np.info(np.add)"
      ],
      "metadata": {
        "collapsed": true,
        "id": "1QMZmzOzQK4u",
        "outputId": "331cfa41-3c53-4cf2-af33-bae195b05cef",
        "colab": {
          "base_uri": "https://localhost:8080/"
        }
      },
      "id": "1QMZmzOzQK4u",
      "execution_count": null,
      "outputs": [
        {
          "output_type": "stream",
          "name": "stdout",
          "text": [
            "add(x1, x2, /, out=None, *, where=True, casting='same_kind', order='K', dtype=None, subok=True[, signature, extobj])\n",
            "\n",
            "Add arguments element-wise.\n",
            "\n",
            "Parameters\n",
            "----------\n",
            "x1, x2 : array_like\n",
            "    The arrays to be added.\n",
            "    If ``x1.shape != x2.shape``, they must be broadcastable to a common\n",
            "    shape (which becomes the shape of the output).\n",
            "out : ndarray, None, or tuple of ndarray and None, optional\n",
            "    A location into which the result is stored. If provided, it must have\n",
            "    a shape that the inputs broadcast to. If not provided or None,\n",
            "    a freshly-allocated array is returned. A tuple (possible only as a\n",
            "    keyword argument) must have length equal to the number of outputs.\n",
            "where : array_like, optional\n",
            "    This condition is broadcast over the input. At locations where the\n",
            "    condition is True, the `out` array will be set to the ufunc result.\n",
            "    Elsewhere, the `out` array will retain its original value.\n",
            "    Note that if an uninitialized `out` array is created via the default\n",
            "    ``out=None``, locations within it where the condition is False will\n",
            "    remain uninitialized.\n",
            "**kwargs\n",
            "    For other keyword-only arguments, see the\n",
            "    :ref:`ufunc docs <ufuncs.kwargs>`.\n",
            "\n",
            "Returns\n",
            "-------\n",
            "add : ndarray or scalar\n",
            "    The sum of `x1` and `x2`, element-wise.\n",
            "    This is a scalar if both `x1` and `x2` are scalars.\n",
            "\n",
            "Notes\n",
            "-----\n",
            "Equivalent to `x1` + `x2` in terms of array broadcasting.\n",
            "\n",
            "Examples\n",
            "--------\n",
            ">>> np.add(1.0, 4.0)\n",
            "5.0\n",
            ">>> x1 = np.arange(9.0).reshape((3, 3))\n",
            ">>> x2 = np.arange(3.0)\n",
            ">>> np.add(x1, x2)\n",
            "array([[  0.,   2.,   4.],\n",
            "       [  3.,   5.,   7.],\n",
            "       [  6.,   8.,  10.]])\n",
            "\n",
            "The ``+`` operator can be used as a shorthand for ``np.add`` on ndarrays.\n",
            "\n",
            ">>> x1 = np.arange(9.0).reshape((3, 3))\n",
            ">>> x2 = np.arange(3.0)\n",
            ">>> x1 + x2\n",
            "array([[ 0.,  2.,  4.],\n",
            "       [ 3.,  5.,  7.],\n",
            "       [ 6.,  8., 10.]])\n"
          ]
        }
      ]
    },
    {
      "cell_type": "code",
      "source": [
        "import numpy as np\n",
        "np.add?"
      ],
      "metadata": {
        "id": "oKomYhDdQXUe"
      },
      "id": "oKomYhDdQXUe",
      "execution_count": null,
      "outputs": []
    },
    {
      "cell_type": "markdown",
      "id": "e0c739c6",
      "metadata": {
        "id": "e0c739c6"
      },
      "source": [
        "#### 6. Create a null vector of size 10 but the fifth value which is 1 (★☆☆)"
      ]
    },
    {
      "cell_type": "code",
      "execution_count": null,
      "id": "bcceacf7",
      "metadata": {
        "id": "bcceacf7",
        "colab": {
          "base_uri": "https://localhost:8080/"
        },
        "outputId": "aa11ff4c-7785-4afa-f949-bf78cf935f6b"
      },
      "outputs": [
        {
          "output_type": "stream",
          "name": "stdout",
          "text": [
            "[0 0 0 0 0 1 0 0 0 0]\n"
          ]
        }
      ],
      "source": [
        "import numpy as np\n",
        "x=np.zeros(10, dtype=int)\n",
        "if x[5]==0:\n",
        "    x[5]=1\n",
        "print(x)"
      ]
    },
    {
      "cell_type": "markdown",
      "id": "fbebedab",
      "metadata": {
        "id": "fbebedab"
      },
      "source": [
        "#### 7. Create a vector with values ranging from 10 to 49 (★☆☆)"
      ]
    },
    {
      "cell_type": "code",
      "execution_count": null,
      "id": "3d117d54",
      "metadata": {
        "id": "3d117d54",
        "colab": {
          "base_uri": "https://localhost:8080/"
        },
        "outputId": "9d22c356-a7c5-437a-d687-c860f15546cc"
      },
      "outputs": [
        {
          "output_type": "stream",
          "name": "stdout",
          "text": [
            "[10 11 12 13 14 15 16 17 18 19 20 21 22 23 24 25 26 27 28 29 30 31 32 33\n",
            " 34 35 36 37 38 39 40 41 42 43 44 45 46 47 48 49]\n"
          ]
        }
      ],
      "source": [
        "import numpy as np\n",
        "z=np.arange(10,50)\n",
        "print(z)"
      ]
    },
    {
      "cell_type": "markdown",
      "id": "ad0bff02",
      "metadata": {
        "id": "ad0bff02"
      },
      "source": [
        "#### 8. Reverse a vector (first element becomes last) (★☆☆)"
      ]
    },
    {
      "cell_type": "code",
      "execution_count": null,
      "id": "22d23470",
      "metadata": {
        "id": "22d23470",
        "colab": {
          "base_uri": "https://localhost:8080/"
        },
        "outputId": "f236d19a-8896-4471-95a8-9902e6cd9296"
      },
      "outputs": [
        {
          "output_type": "stream",
          "name": "stdout",
          "text": [
            "[79 78 77 76 75 74 73 72 71 70 69 68 67 66 65 64 63 62 61 60 59 58 57 56\n",
            " 55 54 53 52 51 50 49 48 47 46 45 44 43 42 41 40 39 38 37 36 35 34 33 32\n",
            " 31 30 29 28 27 26 25 24 23 22 21 20 19 18 17 16 15 14 13 12 11 10  9  8\n",
            "  7  6  5  4  3  2  1  0]\n"
          ]
        }
      ],
      "source": [
        "import numpy as np\n",
        "y=np.arange(80)\n",
        "y= y[::-1]\n",
        "print(y)"
      ]
    },
    {
      "cell_type": "markdown",
      "id": "9f59d7e1",
      "metadata": {
        "id": "9f59d7e1"
      },
      "source": [
        "#### 9. Create a 3x3 matrix with values ranging from 0 to 8 (★☆☆)"
      ]
    },
    {
      "cell_type": "code",
      "execution_count": null,
      "id": "7449e82d",
      "metadata": {
        "id": "7449e82d",
        "colab": {
          "base_uri": "https://localhost:8080/"
        },
        "outputId": "b34f84e2-5e92-4f12-d7e2-8d6cf5875aef"
      },
      "outputs": [
        {
          "output_type": "stream",
          "name": "stdout",
          "text": [
            "[[0 1 2]\n",
            " [3 4 5]\n",
            " [6 7 8]]\n"
          ]
        }
      ],
      "source": [
        "x=np.arange(9).reshape(3,3)\n",
        "print(x)"
      ]
    },
    {
      "cell_type": "markdown",
      "id": "f374c4cf",
      "metadata": {
        "id": "f374c4cf"
      },
      "source": [
        "#### 10. Find indices of non-zero elements from [1,2,0,0,4,0] (★☆☆)"
      ]
    },
    {
      "cell_type": "code",
      "execution_count": null,
      "id": "1a84bed8",
      "metadata": {
        "id": "1a84bed8",
        "colab": {
          "base_uri": "https://localhost:8080/"
        },
        "outputId": "5d8fe184-3564-44e6-845f-19c5b4472356"
      },
      "outputs": [
        {
          "output_type": "stream",
          "name": "stdout",
          "text": [
            "(array([0, 1, 4]),)\n"
          ]
        }
      ],
      "source": [
        "s=np.nonzero([1,2,0,0,4,0])\n",
        "print(s)"
      ]
    },
    {
      "cell_type": "markdown",
      "id": "9c4707f5",
      "metadata": {
        "id": "9c4707f5"
      },
      "source": [
        "#### 11. Create a 3x3 identity matrix (★☆☆)"
      ]
    },
    {
      "cell_type": "code",
      "execution_count": null,
      "id": "29dc1fd3",
      "metadata": {
        "id": "29dc1fd3",
        "colab": {
          "base_uri": "https://localhost:8080/"
        },
        "outputId": "da2348ce-cb81-4582-aa5a-72badf4c6a0a"
      },
      "outputs": [
        {
          "output_type": "stream",
          "name": "stdout",
          "text": [
            "[[1. 0. 0.]\n",
            " [0. 1. 0.]\n",
            " [0. 0. 1.]]\n"
          ]
        }
      ],
      "source": [
        "N=np.eye(3)\n",
        "print(N)"
      ]
    },
    {
      "cell_type": "markdown",
      "id": "3bac294a",
      "metadata": {
        "id": "3bac294a"
      },
      "source": [
        "#### 12. Create a 3x3x3 array with random values (★☆☆)"
      ]
    },
    {
      "cell_type": "code",
      "execution_count": null,
      "id": "eadfae67",
      "metadata": {
        "id": "eadfae67",
        "colab": {
          "base_uri": "https://localhost:8080/"
        },
        "outputId": "2ac64ef1-5ee4-42e2-fd68-506b62354b44"
      },
      "outputs": [
        {
          "output_type": "stream",
          "name": "stdout",
          "text": [
            "[[[0.48523097 0.18341068 0.29979325]\n",
            "  [0.63693108 0.09893667 0.5645059 ]\n",
            "  [0.51337593 0.97926452 0.67170157]]\n",
            "\n",
            " [[0.89736825 0.84821374 0.58637236]\n",
            "  [0.9975923  0.28924881 0.49975974]\n",
            "  [0.7603205  0.80648898 0.16439241]]\n",
            "\n",
            " [[0.95840713 0.32114745 0.1269969 ]\n",
            "  [0.67519661 0.17285845 0.95410554]\n",
            "  [0.05233453 0.26989649 0.84412231]]]\n"
          ]
        }
      ],
      "source": [
        "Y=np.random.random((3,3,3))\n",
        "print(Y)"
      ]
    },
    {
      "cell_type": "markdown",
      "id": "466c2989",
      "metadata": {
        "id": "466c2989"
      },
      "source": [
        "#### 13. Create a 10x10 array with random values and find the minimum and maximum values (★☆☆)"
      ]
    },
    {
      "cell_type": "code",
      "execution_count": null,
      "id": "9a74dbfc",
      "metadata": {
        "id": "9a74dbfc",
        "colab": {
          "base_uri": "https://localhost:8080/"
        },
        "outputId": "1c8159a0-ae6f-43b8-c09e-4bf72cf45004"
      },
      "outputs": [
        {
          "output_type": "stream",
          "name": "stdout",
          "text": [
            "0.018211297891301825 0.9951977912737847\n"
          ]
        }
      ],
      "source": [
        "X=np.random.random((10,10))\n",
        "Xmin,Xmax=X.min(),X.max()\n",
        "print(Xmin,Xmax)"
      ]
    },
    {
      "cell_type": "markdown",
      "id": "53a8edb2",
      "metadata": {
        "id": "53a8edb2"
      },
      "source": [
        "#### 14. Create a random vector of size 30 and find the mean value (★☆☆)"
      ]
    },
    {
      "cell_type": "code",
      "execution_count": null,
      "id": "6691530b",
      "metadata": {
        "id": "6691530b",
        "colab": {
          "base_uri": "https://localhost:8080/"
        },
        "outputId": "2f9a5f43-6ee4-4a04-b8a0-514b8bc6c0f8"
      },
      "outputs": [
        {
          "output_type": "stream",
          "name": "stdout",
          "text": [
            "0.46227387432006245\n"
          ]
        }
      ],
      "source": [
        "y=np.random.random(30)\n",
        "m=y.mean()\n",
        "print(m)"
      ]
    },
    {
      "cell_type": "markdown",
      "id": "cbaad31c",
      "metadata": {
        "id": "cbaad31c"
      },
      "source": [
        "#### 15. Create a 2d array with 1 on the border and 0 inside (★☆☆)"
      ]
    },
    {
      "cell_type": "code",
      "execution_count": null,
      "id": "ad8308e3",
      "metadata": {
        "id": "ad8308e3",
        "colab": {
          "base_uri": "https://localhost:8080/"
        },
        "outputId": "b4609574-9003-45c3-b2ec-b058e8b3638e"
      },
      "outputs": [
        {
          "output_type": "stream",
          "name": "stdout",
          "text": [
            "[[1. 1. 1. 1. 1. 1. 1. 1. 1. 1.]\n",
            " [1. 0. 0. 0. 0. 0. 0. 0. 0. 1.]\n",
            " [1. 0. 0. 0. 0. 0. 0. 0. 0. 1.]\n",
            " [1. 0. 0. 0. 0. 0. 0. 0. 0. 1.]\n",
            " [1. 0. 0. 0. 0. 0. 0. 0. 0. 1.]\n",
            " [1. 0. 0. 0. 0. 0. 0. 0. 0. 1.]\n",
            " [1. 0. 0. 0. 0. 0. 0. 0. 0. 1.]\n",
            " [1. 0. 0. 0. 0. 0. 0. 0. 0. 1.]\n",
            " [1. 0. 0. 0. 0. 0. 0. 0. 0. 1.]\n",
            " [1. 1. 1. 1. 1. 1. 1. 1. 1. 1.]]\n"
          ]
        }
      ],
      "source": [
        "a=np.ones((10,10))\n",
        "a[1:-1,1:-1] = 0\n",
        "print(a)"
      ]
    },
    {
      "cell_type": "markdown",
      "id": "c5ecc267",
      "metadata": {
        "id": "c5ecc267"
      },
      "source": [
        "#### 16. How to add a border (filled with 0's) around an existing array? (★☆☆)"
      ]
    },
    {
      "cell_type": "code",
      "source": [
        "import numpy as np\n",
        "A= np.ones((8,8))\n",
        "A=np.pad(A, pad_width=1, mode='constant',constant_values=0)\n",
        "print(A)\n",
        "A[:,[0,-1]] = 0\n",
        "A[[0,-1], :] = 0\n",
        "print(A)"
      ],
      "metadata": {
        "id": "1l_Pzrh9YgA-",
        "colab": {
          "base_uri": "https://localhost:8080/"
        },
        "outputId": "f41177d5-3265-4525-83cc-5b91ce0f09ab"
      },
      "id": "1l_Pzrh9YgA-",
      "execution_count": null,
      "outputs": [
        {
          "output_type": "stream",
          "name": "stdout",
          "text": [
            "[[0. 0. 0. 0. 0. 0. 0. 0. 0. 0.]\n",
            " [0. 1. 1. 1. 1. 1. 1. 1. 1. 0.]\n",
            " [0. 1. 1. 1. 1. 1. 1. 1. 1. 0.]\n",
            " [0. 1. 1. 1. 1. 1. 1. 1. 1. 0.]\n",
            " [0. 1. 1. 1. 1. 1. 1. 1. 1. 0.]\n",
            " [0. 1. 1. 1. 1. 1. 1. 1. 1. 0.]\n",
            " [0. 1. 1. 1. 1. 1. 1. 1. 1. 0.]\n",
            " [0. 1. 1. 1. 1. 1. 1. 1. 1. 0.]\n",
            " [0. 1. 1. 1. 1. 1. 1. 1. 1. 0.]\n",
            " [0. 0. 0. 0. 0. 0. 0. 0. 0. 0.]]\n",
            "[[0. 0. 0. 0. 0. 0. 0. 0. 0. 0.]\n",
            " [0. 1. 1. 1. 1. 1. 1. 1. 1. 0.]\n",
            " [0. 1. 1. 1. 1. 1. 1. 1. 1. 0.]\n",
            " [0. 1. 1. 1. 1. 1. 1. 1. 1. 0.]\n",
            " [0. 1. 1. 1. 1. 1. 1. 1. 1. 0.]\n",
            " [0. 1. 1. 1. 1. 1. 1. 1. 1. 0.]\n",
            " [0. 1. 1. 1. 1. 1. 1. 1. 1. 0.]\n",
            " [0. 1. 1. 1. 1. 1. 1. 1. 1. 0.]\n",
            " [0. 1. 1. 1. 1. 1. 1. 1. 1. 0.]\n",
            " [0. 0. 0. 0. 0. 0. 0. 0. 0. 0.]]\n"
          ]
        }
      ]
    },
    {
      "cell_type": "markdown",
      "id": "ef909b72",
      "metadata": {
        "id": "ef909b72"
      },
      "source": [
        "#### 17. What is the result of the following expression? (★☆☆)\n",
        "```python\n",
        "0 * np.nan\n",
        "np.nan == np.nan\n",
        "np.inf > np.nan\n",
        "np.nan - np.nan\n",
        "np.nan in set([np.nan])\n",
        "0.3 == 3 * 0.1\n",
        "```"
      ]
    },
    {
      "cell_type": "code",
      "source": [
        "print(0 * np.nan)\n",
        "print(np.nan==np.nan)\n",
        "print(np.inf > np.nan)\n",
        "print(np.nan - np.nan)\n",
        "print(np.nan in set([np.nan]))\n",
        "print(0.3 == 3 * 0.1)\n"
      ],
      "metadata": {
        "id": "b1FjHCTcY1Yn",
        "colab": {
          "base_uri": "https://localhost:8080/"
        },
        "outputId": "905d4199-8776-4919-f816-0aba0b67d900"
      },
      "id": "b1FjHCTcY1Yn",
      "execution_count": null,
      "outputs": [
        {
          "output_type": "stream",
          "name": "stdout",
          "text": [
            "nan\n",
            "False\n",
            "False\n",
            "nan\n",
            "True\n",
            "False\n"
          ]
        }
      ]
    },
    {
      "cell_type": "markdown",
      "id": "502738ac",
      "metadata": {
        "id": "502738ac"
      },
      "source": [
        "#### 18. Create a 5x5 matrix with values 1,2,3,4 just below the diagonal (★☆☆)"
      ]
    },
    {
      "cell_type": "code",
      "execution_count": null,
      "id": "faed6e2b",
      "metadata": {
        "id": "faed6e2b",
        "colab": {
          "base_uri": "https://localhost:8080/"
        },
        "outputId": "224a2638-95d1-474e-dab3-de5db410471c"
      },
      "outputs": [
        {
          "output_type": "stream",
          "name": "stdout",
          "text": [
            "[[0 0 0 0 0]\n",
            " [1 0 0 0 0]\n",
            " [0 2 0 0 0]\n",
            " [0 0 3 0 0]\n",
            " [0 0 0 4 0]]\n"
          ]
        }
      ],
      "source": [
        "X=np.diag(1+np.arange(4),k=-1)\n",
        "print(X)"
      ]
    },
    {
      "cell_type": "markdown",
      "id": "a65da660",
      "metadata": {
        "id": "a65da660"
      },
      "source": [
        "#### 19. Create a 8x8 matrix and fill it with a checkerboard pattern (★☆☆)"
      ]
    },
    {
      "cell_type": "code",
      "execution_count": null,
      "id": "ed150400",
      "metadata": {
        "id": "ed150400",
        "colab": {
          "base_uri": "https://localhost:8080/"
        },
        "outputId": "51cda7cd-a3e3-46ce-a806-d6b65fdde200"
      },
      "outputs": [
        {
          "output_type": "stream",
          "name": "stdout",
          "text": [
            "[[0 1 0 1 0 1 0 1]\n",
            " [1 0 1 0 1 0 1 0]\n",
            " [0 1 0 1 0 1 0 1]\n",
            " [1 0 1 0 1 0 1 0]\n",
            " [0 1 0 1 0 1 0 1]\n",
            " [1 0 1 0 1 0 1 0]\n",
            " [0 1 0 1 0 1 0 1]\n",
            " [1 0 1 0 1 0 1 0]]\n"
          ]
        }
      ],
      "source": [
        "M=np.zeros((8,8),dtype=int)\n",
        "M[1::2,::2] =1\n",
        "M[::2,1::2] =1\n",
        "print(M)"
      ]
    },
    {
      "cell_type": "markdown",
      "id": "9f7f9c49",
      "metadata": {
        "id": "9f7f9c49"
      },
      "source": [
        "#### 20. Consider a (6,7,8) shape array, what is the index (x,y,z) of the 100th element? (★☆☆)"
      ]
    },
    {
      "cell_type": "code",
      "execution_count": null,
      "id": "3782b5a9",
      "metadata": {
        "id": "3782b5a9",
        "colab": {
          "base_uri": "https://localhost:8080/"
        },
        "outputId": "22f25ce3-b43a-474e-90e8-4042c960564f"
      },
      "outputs": [
        {
          "output_type": "stream",
          "name": "stdout",
          "text": [
            "(1, 5, 3)\n"
          ]
        }
      ],
      "source": [
        "import numpy as np\n",
        "print(np.unravel_index(99,(6,7,8)))"
      ]
    },
    {
      "cell_type": "markdown",
      "id": "66bfda35",
      "metadata": {
        "id": "66bfda35"
      },
      "source": [
        "#### 21. Create a checkerboard 8x8 matrix using the tile function (★☆☆)"
      ]
    },
    {
      "cell_type": "code",
      "execution_count": null,
      "id": "4c07477c",
      "metadata": {
        "id": "4c07477c",
        "colab": {
          "base_uri": "https://localhost:8080/"
        },
        "outputId": "3ed761d0-66c4-44a3-8496-714dafc3922e"
      },
      "outputs": [
        {
          "output_type": "stream",
          "name": "stdout",
          "text": [
            "[[0 1 0 1 0 1 0 1]\n",
            " [1 0 1 0 1 0 1 0]\n",
            " [0 1 0 1 0 1 0 1]\n",
            " [1 0 1 0 1 0 1 0]\n",
            " [0 1 0 1 0 1 0 1]\n",
            " [1 0 1 0 1 0 1 0]\n",
            " [0 1 0 1 0 1 0 1]\n",
            " [1 0 1 0 1 0 1 0]]\n"
          ]
        }
      ],
      "source": [
        "import numpy as np\n",
        "X= np.tile(np.array([[0,1], [1,0]]), (4,4))\n",
        "print (X)"
      ]
    },
    {
      "cell_type": "markdown",
      "id": "d5bcfc08",
      "metadata": {
        "id": "d5bcfc08"
      },
      "source": [
        "#### 22. Normalize a 5x5 random matrix (★☆☆)"
      ]
    },
    {
      "cell_type": "code",
      "execution_count": null,
      "id": "cea6c993",
      "metadata": {
        "id": "cea6c993",
        "colab": {
          "base_uri": "https://localhost:8080/"
        },
        "outputId": "b625bf53-aa82-4122-a69b-b1aff4a5961c"
      },
      "outputs": [
        {
          "output_type": "stream",
          "name": "stdout",
          "text": [
            "[[ 0.75200116 -0.29016148  1.15286159  0.38683424  0.59295412]\n",
            " [ 0.80938376 -0.69860263  0.64084323  1.14407453  0.06237241]\n",
            " [-1.81256972  1.16891705 -0.3815059   0.70918673  0.60675894]\n",
            " [-0.44850182 -1.46105238 -1.79390694  1.15376602  0.086602  ]\n",
            " [ 1.10160505 -0.89922416 -1.48031814 -1.61682485  0.51450717]]\n"
          ]
        }
      ],
      "source": [
        "T=np.random.random((5,5))\n",
        "T=(T-np.mean(T))/(np.std(T))\n",
        "print(T)"
      ]
    },
    {
      "cell_type": "markdown",
      "id": "f9a0911e",
      "metadata": {
        "id": "f9a0911e"
      },
      "source": [
        "#### 23. Create a custom dtype that describes a color as four unsigned bytes (RGBA) (★☆☆)"
      ]
    },
    {
      "cell_type": "code",
      "execution_count": null,
      "id": "d165044b",
      "metadata": {
        "id": "d165044b"
      },
      "outputs": [],
      "source": [
        "import numpy as np\n",
        "color = np.dtype([(\"r\",np.ubyte),\n",
        "                  (\"g\",np.ubyte),\n",
        "                  (\"b\",np.ubyte),\n",
        "                  (\"a\",np.ubyte)])"
      ]
    },
    {
      "cell_type": "markdown",
      "id": "654805b1",
      "metadata": {
        "id": "654805b1"
      },
      "source": [
        "#### 24. Multiply a 5x3 matrix by a 3x2 matrix (real matrix product) (★☆☆)"
      ]
    },
    {
      "cell_type": "code",
      "execution_count": null,
      "id": "6a42619f",
      "metadata": {
        "id": "6a42619f",
        "colab": {
          "base_uri": "https://localhost:8080/"
        },
        "outputId": "672edb18-1b64-4131-beb3-0d2edf1388dd"
      },
      "outputs": [
        {
          "output_type": "stream",
          "name": "stdout",
          "text": [
            "[[3. 3.]\n",
            " [3. 3.]\n",
            " [3. 3.]\n",
            " [3. 3.]\n",
            " [3. 3.]]\n",
            "[[3. 3.]\n",
            " [3. 3.]\n",
            " [3. 3.]\n",
            " [3. 3.]\n",
            " [3. 3.]]\n"
          ]
        }
      ],
      "source": [
        "A=np.dot(np.ones((5,3)), np.ones((3,2)))\n",
        "print(A)\n",
        "A=np.ones((5,3)) @ np.ones((3,2))\n",
        "print(A)"
      ]
    },
    {
      "cell_type": "markdown",
      "id": "994c25df",
      "metadata": {
        "id": "994c25df"
      },
      "source": [
        "#### 25. Given a 1D array, negate all elements which are between 3 and 8, in place. (★☆☆)"
      ]
    },
    {
      "cell_type": "code",
      "execution_count": null,
      "id": "e4b39c03",
      "metadata": {
        "id": "e4b39c03",
        "colab": {
          "base_uri": "https://localhost:8080/"
        },
        "outputId": "b83684a1-71a6-45f4-f595-41b493612db7"
      },
      "outputs": [
        {
          "output_type": "stream",
          "name": "stdout",
          "text": [
            "[ 0  1  2  3 -4 -5 -6 -7 -8  9 10]\n"
          ]
        }
      ],
      "source": [
        "D=np.arange(11)\n",
        "D[(3<D)&(D<=8)]*=-1\n",
        "print(D)"
      ]
    },
    {
      "cell_type": "markdown",
      "id": "b7d15d1a",
      "metadata": {
        "id": "b7d15d1a"
      },
      "source": [
        "#### 26. What is the output of the following script? (★☆☆)\n",
        "```python\n",
        "# Author: Jake VanderPlas\n",
        "\n",
        "print(sum(range(5),-1))\n",
        "from numpy import *\n",
        "print(sum(range(5),-1))\n",
        "```"
      ]
    },
    {
      "cell_type": "code",
      "execution_count": null,
      "id": "4c95bc3f",
      "metadata": {
        "id": "4c95bc3f",
        "colab": {
          "base_uri": "https://localhost:8080/"
        },
        "outputId": "9b9ff93f-b95e-490b-f131-e8e9c938636e"
      },
      "outputs": [
        {
          "metadata": {
            "tags": null
          },
          "name": "stdout",
          "output_type": "stream",
          "text": [
            "9\n",
            "10\n"
          ]
        }
      ],
      "source": [
        "print(sum(range(5),-1))\n",
        "from numpy import *\n",
        "print(sum(range(5),-1))"
      ]
    },
    {
      "cell_type": "markdown",
      "id": "a34f0d08",
      "metadata": {
        "id": "a34f0d08"
      },
      "source": [
        "#### 27. Consider an integer vector Z, which of these expressions are legal? (★☆☆)\n",
        "```python\n",
        "Z**Z\n",
        "2 << Z >> 2\n",
        "Z <- Z\n",
        "1j*Z\n",
        "Z/1/1\n",
        "Z<Z>Z\n",
        "```"
      ]
    },
    {
      "cell_type": "code",
      "execution_count": 23,
      "id": "564658fc",
      "metadata": {
        "id": "564658fc"
      },
      "outputs": [],
      "source": []
    },
    {
      "cell_type": "markdown",
      "id": "c34e94bf",
      "metadata": {
        "id": "c34e94bf"
      },
      "source": [
        "#### 28. What are the result of the following expressions? (★☆☆)\n",
        "```python\n",
        "np.array(0) / np.array(0)\n",
        "np.array(0) // np.array(0)\n",
        "np.array([np.nan]).astype(int).astype(float)\n",
        "```"
      ]
    },
    {
      "cell_type": "code",
      "execution_count": 24,
      "id": "56663562",
      "metadata": {
        "id": "56663562",
        "colab": {
          "base_uri": "https://localhost:8080/"
        },
        "outputId": "bc4bbd51-a1ab-4eb7-81a2-e92854263323"
      },
      "outputs": [
        {
          "output_type": "stream",
          "name": "stdout",
          "text": [
            "nan\n",
            "0\n",
            "[-9.22337204e+18]\n"
          ]
        },
        {
          "output_type": "stream",
          "name": "stderr",
          "text": [
            "<ipython-input-24-2a10de0ee61b>:1: RuntimeWarning: invalid value encountered in divide\n",
            "  print(np.array(0) / np.array(0))\n",
            "<ipython-input-24-2a10de0ee61b>:2: RuntimeWarning: divide by zero encountered in floor_divide\n",
            "  print(np.array(0) // np.array(0))\n",
            "<ipython-input-24-2a10de0ee61b>:3: RuntimeWarning: invalid value encountered in cast\n",
            "  print(np.array([np.nan]).astype(int).astype(float))\n"
          ]
        }
      ],
      "source": [
        "print(np.array(0) / np.array(0))\n",
        "print(np.array(0) // np.array(0))\n",
        "print(np.array([np.nan]).astype(int).astype(float))"
      ]
    },
    {
      "cell_type": "markdown",
      "id": "546f5e7b",
      "metadata": {
        "id": "546f5e7b"
      },
      "source": [
        "#### 29. How to round away from zero a float array ? (★☆☆)"
      ]
    },
    {
      "cell_type": "code",
      "execution_count": 29,
      "id": "f725a6d2",
      "metadata": {
        "id": "f725a6d2",
        "colab": {
          "base_uri": "https://localhost:8080/"
        },
        "outputId": "e0bb95e2-eac4-4d17-b00f-ad405d0cc7b2"
      },
      "outputs": [
        {
          "output_type": "stream",
          "name": "stdout",
          "text": [
            "[-3. -8.  3. -9. -4.  8.  2. -3. -1. -2.]\n",
            "[-3. -8.  3. -9. -4.  8.  2. -3. -1. -2.]\n"
          ]
        }
      ],
      "source": [
        "Z= np.random.uniform(-10,+10,10)\n",
        "print(np.copysign(np.ceil(np.abs(Z)), Z))\n",
        "print(np.where(Z>0, np.ceil(Z), np.floor(Z)))"
      ]
    },
    {
      "cell_type": "markdown",
      "id": "eadca856",
      "metadata": {
        "id": "eadca856"
      },
      "source": [
        "#### 30. How to find common values between two arrays? (★☆☆)"
      ]
    },
    {
      "cell_type": "code",
      "execution_count": 33,
      "id": "e0270b5b",
      "metadata": {
        "id": "e0270b5b",
        "colab": {
          "base_uri": "https://localhost:8080/"
        },
        "outputId": "519c3219-000f-47f5-86fe-8186f0fd87a4"
      },
      "outputs": [
        {
          "output_type": "stream",
          "name": "stdout",
          "text": [
            "[  0   2   3   4   5   8   9  12  14  18  19  22  24  29  35  37  40  41\n",
            "  43  44  46  49  52  54  56  57  58  60  64  69  73  74  75  76  77  84\n",
            "  87  89  91  92  93  98 100 102 105 109 110 112 113 114 118 122 125 126\n",
            " 127 129 130 133 139 140 142 143 145 148 151 158 159 161 162 163 164 165\n",
            " 168 172 177 182 184 185 190 195 199]\n"
          ]
        }
      ],
      "source": [
        "A1=np.random.randint(0,200,200)\n",
        "A2=np.random.randint(0,200,200)\n",
        "print(np.intersect1d(A1,A2))"
      ]
    },
    {
      "cell_type": "markdown",
      "id": "ca16ca22",
      "metadata": {
        "id": "ca16ca22"
      },
      "source": [
        "#### 31. How to ignore all numpy warnings (not recommended)? (★☆☆)"
      ]
    },
    {
      "cell_type": "code",
      "execution_count": 34,
      "id": "7d7208ef",
      "metadata": {
        "id": "7d7208ef",
        "colab": {
          "base_uri": "https://localhost:8080/"
        },
        "outputId": "e4e5c9ba-1292-4653-8ea6-b3dcd7838344"
      },
      "outputs": [
        {
          "output_type": "stream",
          "name": "stdout",
          "text": [
            "[nan inf inf]\n"
          ]
        }
      ],
      "source": [
        "defaults = np.seterr(all=\"ignore\")\n",
        "X=np.ones(1)/0\n",
        "np.seterr(**defaults)\n",
        "with np.errstate(all=\"ignore\"):\n",
        "    np.arange(3)/0\n",
        "    X=np.arange(3)/0\n",
        "    print(X)"
      ]
    },
    {
      "cell_type": "markdown",
      "id": "c7871d0d",
      "metadata": {
        "id": "c7871d0d"
      },
      "source": [
        "#### 32. Is the following expressions true? (★☆☆)\n",
        "```python\n",
        "np.sqrt(-1) == np.emath.sqrt(-1)\n",
        "```"
      ]
    },
    {
      "cell_type": "code",
      "execution_count": 38,
      "id": "acc3701a",
      "metadata": {
        "id": "acc3701a",
        "colab": {
          "base_uri": "https://localhost:8080/"
        },
        "outputId": "cf917691-3569-4736-b624-e1bbb04acbcc"
      },
      "outputs": [
        {
          "output_type": "stream",
          "name": "stderr",
          "text": [
            "<ipython-input-38-5295bc09d449>:2: RuntimeWarning: invalid value encountered in sqrt\n",
            "  np.sqrt(-1)==np.emath.sqrt(-1)\n",
            "<ipython-input-38-5295bc09d449>:3: RuntimeWarning: invalid value encountered in sqrt\n",
            "  np.sqrt(-1)==np.emath.sqrt(-1)\n"
          ]
        },
        {
          "output_type": "execute_result",
          "data": {
            "text/plain": [
              "False"
            ]
          },
          "metadata": {},
          "execution_count": 38
        }
      ],
      "source": [
        "import numpy as np\n",
        "np.sqrt(-1)==np.emath.sqrt(-1)\n",
        "np.sqrt(-1)==np.emath.sqrt(-1)"
      ]
    },
    {
      "cell_type": "markdown",
      "id": "e0433e30",
      "metadata": {
        "id": "e0433e30"
      },
      "source": [
        "#### 33. How to get the dates of yesterday, today and tomorrow? (★☆☆)"
      ]
    },
    {
      "cell_type": "code",
      "execution_count": 43,
      "id": "9c4d2152",
      "metadata": {
        "id": "9c4d2152",
        "colab": {
          "base_uri": "https://localhost:8080/"
        },
        "outputId": "7b73955f-f8ed-4ee9-c6e7-3bbb84caff72"
      },
      "outputs": [
        {
          "output_type": "stream",
          "name": "stdout",
          "text": [
            "2024-11-25\n",
            "2024-11-26\n",
            "2024-11-27\n"
          ]
        }
      ],
      "source": [
        "import numpy as np\n",
        "yesterday=np.datetime64('today')-np.timedelta64(1)\n",
        "today=np.datetime64('today')\n",
        "tomorrow=np.datetime64('today')+np.timedelta64(1)\n",
        "print(yesterday)\n",
        "print(today)\n",
        "print(tomorrow)"
      ]
    },
    {
      "cell_type": "markdown",
      "id": "9f52a2ef",
      "metadata": {
        "id": "9f52a2ef"
      },
      "source": [
        "#### 34. How to get all the dates corresponding to the month of July 2016? (★★☆)"
      ]
    },
    {
      "cell_type": "code",
      "execution_count": 45,
      "id": "d6c34dec",
      "metadata": {
        "id": "d6c34dec",
        "colab": {
          "base_uri": "https://localhost:8080/"
        },
        "outputId": "ed6c2b7c-d9e3-4f52-f3b0-c320e7a9fc3f"
      },
      "outputs": [
        {
          "output_type": "stream",
          "name": "stdout",
          "text": [
            "['2016-07-01' '2016-07-02' '2016-07-03' '2016-07-04' '2016-07-05'\n",
            " '2016-07-06' '2016-07-07' '2016-07-08' '2016-07-09' '2016-07-10'\n",
            " '2016-07-11' '2016-07-12' '2016-07-13' '2016-07-14' '2016-07-15'\n",
            " '2016-07-16' '2016-07-17' '2016-07-18' '2016-07-19' '2016-07-20'\n",
            " '2016-07-21' '2016-07-22' '2016-07-23' '2016-07-24' '2016-07-25'\n",
            " '2016-07-26' '2016-07-27' '2016-07-28' '2016-07-29' '2016-07-30'\n",
            " '2016-07-31']\n"
          ]
        }
      ],
      "source": [
        "L=np.arange('2016-07','2016-08',dtype='datetime64[D]')\n",
        "print(L)"
      ]
    },
    {
      "cell_type": "markdown",
      "id": "4a64e059",
      "metadata": {
        "id": "4a64e059"
      },
      "source": [
        "#### 35. How to compute ((A+B)*(-A/2)) in place (without copy)? (★★☆)"
      ]
    },
    {
      "cell_type": "code",
      "execution_count": 46,
      "id": "49267f60",
      "metadata": {
        "id": "49267f60",
        "colab": {
          "base_uri": "https://localhost:8080/"
        },
        "outputId": "a159815b-65b9-4306-b0c2-cb40ddb123fc"
      },
      "outputs": [
        {
          "output_type": "execute_result",
          "data": {
            "text/plain": [
              "array([-5., -5., -5., -5., -5.])"
            ]
          },
          "metadata": {},
          "execution_count": 46
        }
      ],
      "source": [
        "X=np.ones(5)*2\n",
        "Y=np.ones(5)*3\n",
        "np.add(X,Y,out=Y)\n",
        "np.divide(X,2,out=X)\n",
        "np.negative(X,out=X)\n",
        "np.multiply(X,Y,out=X)"
      ]
    },
    {
      "cell_type": "markdown",
      "id": "8a98c2a8",
      "metadata": {
        "id": "8a98c2a8"
      },
      "source": [
        "#### 36. Extract the integer part of a random array of positive numbers using 4 different methods (★★☆)"
      ]
    },
    {
      "cell_type": "code",
      "execution_count": 48,
      "id": "368130b3",
      "metadata": {
        "id": "368130b3",
        "colab": {
          "base_uri": "https://localhost:8080/"
        },
        "outputId": "e5d32c5c-9562-4330-8577-acbe9af4afaa"
      },
      "outputs": [
        {
          "output_type": "stream",
          "name": "stdout",
          "text": [
            "[17. 11.  9. 44. 29.  2. 10. 42. 12. 34. 21. 47. 41.  8. 14.  0. 21. 45.\n",
            " 23. 49. 29. 29.  7. 26. 39. 28. 10. 30. 30.  1. 21. 24. 38. 18. 27.  6.\n",
            " 48.  7. 48. 35. 11. 34. 36. 37. 29. 26. 22.  5. 11. 26. 18. 31. 31. 32.\n",
            " 44. 30. 16. 40. 19. 18. 37.  0. 44.  7. 23. 30. 25.  2. 40. 33.]\n",
            "[17. 11.  9. 44. 29.  2. 10. 42. 12. 34. 21. 47. 41.  8. 14.  0. 21. 45.\n",
            " 23. 49. 29. 29.  7. 26. 39. 28. 10. 30. 30.  1. 21. 24. 38. 18. 27.  6.\n",
            " 48.  7. 48. 35. 11. 34. 36. 37. 29. 26. 22.  5. 11. 26. 18. 31. 31. 32.\n",
            " 44. 30. 16. 40. 19. 18. 37.  0. 44.  7. 23. 30. 25.  2. 40. 33.]\n",
            "[17. 11.  9. 44. 29.  2. 10. 42. 12. 34. 21. 47. 41.  8. 14.  0. 21. 45.\n",
            " 23. 49. 29. 29.  7. 26. 39. 28. 10. 30. 30.  1. 21. 24. 38. 18. 27.  6.\n",
            " 48.  7. 48. 35. 11. 34. 36. 37. 29. 26. 22.  5. 11. 26. 18. 31. 31. 32.\n",
            " 44. 30. 16. 40. 19. 18. 37.  0. 44.  7. 23. 30. 25.  2. 40. 33.]\n",
            "[17 11  9 44 29  2 10 42 12 34 21 47 41  8 14  0 21 45 23 49 29 29  7 26\n",
            " 39 28 10 30 30  1 21 24 38 18 27  6 48  7 48 35 11 34 36 37 29 26 22  5\n",
            " 11 26 18 31 31 32 44 30 16 40 19 18 37  0 44  7 23 30 25  2 40 33]\n",
            "[17. 11.  9. 44. 29.  2. 10. 42. 12. 34. 21. 47. 41.  8. 14.  0. 21. 45.\n",
            " 23. 49. 29. 29.  7. 26. 39. 28. 10. 30. 30.  1. 21. 24. 38. 18. 27.  6.\n",
            " 48.  7. 48. 35. 11. 34. 36. 37. 29. 26. 22.  5. 11. 26. 18. 31. 31. 32.\n",
            " 44. 30. 16. 40. 19. 18. 37.  0. 44.  7. 23. 30. 25.  2. 40. 33.]\n"
          ]
        }
      ],
      "source": [
        "  K=np.random.uniform(0,50,70)\n",
        "  print(K-K%1)\n",
        "  print(np.floor(K))\n",
        "  print(np.ceil(K)-1)\n",
        "  print(K.astype(int))\n",
        "  print(np.trunc(K))"
      ]
    },
    {
      "cell_type": "markdown",
      "id": "5a2e3d85",
      "metadata": {
        "id": "5a2e3d85"
      },
      "source": [
        "#### 37. Create a 5x5 matrix with row values ranging from 0 to 4 (★★☆)"
      ]
    },
    {
      "cell_type": "code",
      "execution_count": 49,
      "id": "1d974e8f",
      "metadata": {
        "id": "1d974e8f",
        "colab": {
          "base_uri": "https://localhost:8080/"
        },
        "outputId": "04757bd0-9226-455b-e481-72d1c82dc4f3"
      },
      "outputs": [
        {
          "output_type": "stream",
          "name": "stdout",
          "text": [
            "[[0. 1. 2. 3. 4.]\n",
            " [0. 1. 2. 3. 4.]\n",
            " [0. 1. 2. 3. 4.]\n",
            " [0. 1. 2. 3. 4.]\n",
            " [0. 1. 2. 3. 4.]]\n",
            "[[0 1 2 3 4]\n",
            " [0 1 2 3 4]\n",
            " [0 1 2 3 4]\n",
            " [0 1 2 3 4]\n",
            " [0 1 2 3 4]]\n"
          ]
        }
      ],
      "source": [
        "Y=np.zeros((5,5))\n",
        "Y+=np.arange(5)\n",
        "print(Y)\n",
        "Y=np.tile(np.arange(0,5),(5,1))\n",
        "print(Y)"
      ]
    },
    {
      "cell_type": "markdown",
      "id": "9720e2d5",
      "metadata": {
        "id": "9720e2d5"
      },
      "source": [
        "#### 38. Consider a generator function that generates 10 integers and use it to build an array (★☆☆)"
      ]
    },
    {
      "cell_type": "code",
      "execution_count": 54,
      "id": "e5dd8fc9",
      "metadata": {
        "id": "e5dd8fc9",
        "colab": {
          "base_uri": "https://localhost:8080/"
        },
        "outputId": "2a1206a2-017f-4255-cdc3-bd77ed6fecfc"
      },
      "outputs": [
        {
          "output_type": "stream",
          "name": "stdout",
          "text": [
            "[0. 1. 2. 3. 4. 5. 6. 7. 8. 9.]\n"
          ]
        }
      ],
      "source": [
        "def generate():\n",
        "  for y in range(10):\n",
        "    yield y\n",
        "x=np.fromiter(generate(),dtype=float,count=-1)\n",
        "print(x)"
      ]
    },
    {
      "cell_type": "markdown",
      "id": "c6f2c912",
      "metadata": {
        "id": "c6f2c912"
      },
      "source": [
        "#### 39. Create a vector of size 10 with values ranging from 0 to 1, both excluded (★★☆)"
      ]
    },
    {
      "cell_type": "code",
      "execution_count": 58,
      "id": "6aaa27d3",
      "metadata": {
        "id": "6aaa27d3",
        "colab": {
          "base_uri": "https://localhost:8080/"
        },
        "outputId": "c1ca3b67-34e2-482e-ade2-deeac125a0ad"
      },
      "outputs": [
        {
          "output_type": "stream",
          "name": "stdout",
          "text": [
            "[0.09090909 0.18181818 0.27272727 0.36363636 0.45454545 0.54545455\n",
            " 0.63636364 0.72727273 0.81818182 0.90909091]\n"
          ]
        }
      ],
      "source": [
        "Q=np.linspace(0,1,11,endpoint=False)[1:]\n",
        "print(Q)"
      ]
    },
    {
      "cell_type": "markdown",
      "id": "a36d6ee4",
      "metadata": {
        "id": "a36d6ee4"
      },
      "source": [
        "#### 40. Create a random vector of size 10 and sort it (★★☆)"
      ]
    },
    {
      "cell_type": "code",
      "execution_count": 59,
      "id": "e589d216",
      "metadata": {
        "id": "e589d216",
        "colab": {
          "base_uri": "https://localhost:8080/"
        },
        "outputId": "e372eb0b-2bd8-4cb0-ed57-6e10bbfe3b37"
      },
      "outputs": [
        {
          "output_type": "stream",
          "name": "stdout",
          "text": [
            "[0.00142621 0.0774551  0.13654384 0.18321147 0.45138606 0.48345925\n",
            " 0.49517152 0.5875271  0.80746749 0.99121408]\n"
          ]
        }
      ],
      "source": [
        "N=np.random.random(10)\n",
        "N.sort()\n",
        "print(N)"
      ]
    },
    {
      "cell_type": "markdown",
      "id": "0fb4ad68",
      "metadata": {
        "id": "0fb4ad68"
      },
      "source": [
        "#### 41. How to sum a small array faster than np.sum? (★★☆)"
      ]
    },
    {
      "cell_type": "code",
      "execution_count": 60,
      "id": "a1ba05a0",
      "metadata": {
        "id": "a1ba05a0",
        "colab": {
          "base_uri": "https://localhost:8080/"
        },
        "outputId": "2e90f2e1-c667-4036-9bc9-93df9a427484"
      },
      "outputs": [
        {
          "output_type": "execute_result",
          "data": {
            "text/plain": [
              "26335"
            ]
          },
          "metadata": {},
          "execution_count": 60
        }
      ],
      "source": [
        "B=np.arange(230)\n",
        "np.add.reduce(B)"
      ]
    },
    {
      "cell_type": "markdown",
      "id": "024ac365",
      "metadata": {
        "id": "024ac365"
      },
      "source": [
        "#### 42. Consider two random array A and B, check if they are equal (★★☆)"
      ]
    },
    {
      "cell_type": "code",
      "execution_count": 61,
      "id": "7db3846d",
      "metadata": {
        "id": "7db3846d",
        "colab": {
          "base_uri": "https://localhost:8080/"
        },
        "outputId": "4d3b03a8-2fcc-4b55-99fc-ddce6b9a96ff"
      },
      "outputs": [
        {
          "output_type": "stream",
          "name": "stdout",
          "text": [
            "False\n",
            "False\n"
          ]
        }
      ],
      "source": [
        "A=np.random.randint(0,6,15)\n",
        "B=np.random.randint(0,6,15)\n",
        "equal=np.allclose(A,B)\n",
        "print(equal)\n",
        "equal=np.array_equal(A,B)\n",
        "print(equal)"
      ]
    },
    {
      "cell_type": "markdown",
      "id": "c68d2401",
      "metadata": {
        "id": "c68d2401"
      },
      "source": [
        "#### 43. Make an array immutable (read-only) (★★☆)"
      ]
    },
    {
      "cell_type": "code",
      "execution_count": 66,
      "id": "7828539d",
      "metadata": {
        "id": "7828539d"
      },
      "outputs": [],
      "source": []
    },
    {
      "cell_type": "markdown",
      "id": "55df6280",
      "metadata": {
        "id": "55df6280"
      },
      "source": [
        "#### 44. Consider a random 10x2 matrix representing cartesian coordinates, convert them to polar coordinates (★★☆)"
      ]
    },
    {
      "cell_type": "code",
      "execution_count": 67,
      "id": "f1c86ea0",
      "metadata": {
        "id": "f1c86ea0",
        "colab": {
          "base_uri": "https://localhost:8080/"
        },
        "outputId": "f2080334-0dd1-41eb-872c-07bda1a53b37"
      },
      "outputs": [
        {
          "output_type": "stream",
          "name": "stdout",
          "text": [
            "[1.2771354  1.26183864 1.24260751 1.53423086 1.51038285 1.39307695\n",
            " 0.93026274 1.59941421 1.63912578 1.78197291]\n",
            "[0.48423335 1.41209055 0.1346687  1.31945463 0.2980912  0.67360297\n",
            " 0.82923889 0.68097957 0.78145524 1.0274302 ]\n"
          ]
        }
      ],
      "source": [
        "Z = np.random.random((10,2))\n",
        "X,Y = Z[:,0], Z[:,1]\n",
        "R = np.sqrt(X*2+Y*2)\n",
        "T = np.arctan2(Y,X)\n",
        "print(R)\n",
        "print(T)"
      ]
    },
    {
      "cell_type": "markdown",
      "id": "2f60f1ec",
      "metadata": {
        "id": "2f60f1ec"
      },
      "source": [
        "#### 45. Create random vector of size 10 and replace the maximum value by 0 (★★☆)"
      ]
    },
    {
      "cell_type": "code",
      "execution_count": 68,
      "id": "d9f48f1c",
      "metadata": {
        "id": "d9f48f1c",
        "colab": {
          "base_uri": "https://localhost:8080/"
        },
        "outputId": "98b70c8b-ee93-44e8-8fbe-0c3a33001223"
      },
      "outputs": [
        {
          "output_type": "stream",
          "name": "stdout",
          "text": [
            "[0.57948962 0.11323612 0.82137492 0.74235068 0.07352726 0.12608544\n",
            " 0.17500569 0.10248786 0.         0.29406723]\n"
          ]
        }
      ],
      "source": [
        "A=np.random.random(10)\n",
        "A[A.argmax()]=0\n",
        "print(A)"
      ]
    },
    {
      "cell_type": "markdown",
      "id": "084e8ad4",
      "metadata": {
        "id": "084e8ad4"
      },
      "source": [
        "#### 46. Create a structured array with `x` and `y` coordinates covering the [0,1]x[0,1] area (★★☆)"
      ]
    },
    {
      "cell_type": "code",
      "execution_count": 70,
      "id": "58b47c13",
      "metadata": {
        "id": "58b47c13",
        "colab": {
          "base_uri": "https://localhost:8080/"
        },
        "outputId": "7397ce92-ab01-42c6-f004-e6b4901b866b"
      },
      "outputs": [
        {
          "output_type": "stream",
          "name": "stdout",
          "text": [
            "[[(0.        , 0.        ) (0.16666667, 0.        )\n",
            "  (0.33333333, 0.        ) (0.5       , 0.        )\n",
            "  (0.66666667, 0.        ) (0.83333333, 0.        )\n",
            "  (1.        , 0.        )]\n",
            " [(0.        , 0.16666667) (0.16666667, 0.16666667)\n",
            "  (0.33333333, 0.16666667) (0.5       , 0.16666667)\n",
            "  (0.66666667, 0.16666667) (0.83333333, 0.16666667)\n",
            "  (1.        , 0.16666667)]\n",
            " [(0.        , 0.33333333) (0.16666667, 0.33333333)\n",
            "  (0.33333333, 0.33333333) (0.5       , 0.33333333)\n",
            "  (0.66666667, 0.33333333) (0.83333333, 0.33333333)\n",
            "  (1.        , 0.33333333)]\n",
            " [(0.        , 0.5       ) (0.16666667, 0.5       )\n",
            "  (0.33333333, 0.5       ) (0.5       , 0.5       )\n",
            "  (0.66666667, 0.5       ) (0.83333333, 0.5       )\n",
            "  (1.        , 0.5       )]\n",
            " [(0.        , 0.66666667) (0.16666667, 0.66666667)\n",
            "  (0.33333333, 0.66666667) (0.5       , 0.66666667)\n",
            "  (0.66666667, 0.66666667) (0.83333333, 0.66666667)\n",
            "  (1.        , 0.66666667)]\n",
            " [(0.        , 0.83333333) (0.16666667, 0.83333333)\n",
            "  (0.33333333, 0.83333333) (0.5       , 0.83333333)\n",
            "  (0.66666667, 0.83333333) (0.83333333, 0.83333333)\n",
            "  (1.        , 0.83333333)]\n",
            " [(0.        , 1.        ) (0.16666667, 1.        )\n",
            "  (0.33333333, 1.        ) (0.5       , 1.        )\n",
            "  (0.66666667, 1.        ) (0.83333333, 1.        )\n",
            "  (1.        , 1.        )]]\n"
          ]
        }
      ],
      "source": [
        "Z = np.zeros((7,7), [('x',float),('y',float)])\n",
        "Z['x'], Z['y'] = np.meshgrid(np.linspace(0,1,7),\n",
        "                             np.linspace(0,1,7))\n",
        "print(Z)"
      ]
    },
    {
      "cell_type": "markdown",
      "id": "d7b9bc42",
      "metadata": {
        "id": "d7b9bc42"
      },
      "source": [
        "#### 47. Given two arrays, X and Y, construct the Cauchy matrix C (Cij =1/(xi - yj)) (★★☆)"
      ]
    },
    {
      "cell_type": "code",
      "execution_count": 71,
      "id": "a24824fb",
      "metadata": {
        "id": "a24824fb",
        "colab": {
          "base_uri": "https://localhost:8080/"
        },
        "outputId": "b644ed4a-1554-429c-8694-fc9a28e484f3"
      },
      "outputs": [
        {
          "output_type": "stream",
          "name": "stdout",
          "text": [
            "17887483823.583435\n"
          ]
        }
      ],
      "source": [
        "A=np.arange(16)\n",
        "B=A+0.8\n",
        "C=1.0/np.subtract.outer(A,B)\n",
        "print(np.linalg.det(C))\n"
      ]
    },
    {
      "cell_type": "markdown",
      "id": "65ebc11b",
      "metadata": {
        "id": "65ebc11b"
      },
      "source": [
        "#### 48. Print the minimum and maximum representable value for each numpy scalar type (★★☆)"
      ]
    },
    {
      "cell_type": "code",
      "execution_count": 75,
      "id": "e45d38fb",
      "metadata": {
        "id": "e45d38fb",
        "colab": {
          "base_uri": "https://localhost:8080/"
        },
        "outputId": "0aefb9cb-2594-4da8-df52-f0fdbed7dfcc"
      },
      "outputs": [
        {
          "output_type": "stream",
          "name": "stdout",
          "text": [
            "-128\n",
            "127\n",
            "-2147483648\n",
            "2147483647\n",
            "-9223372036854775808\n",
            "9223372036854775807\n",
            "-3.4028235e+38\n",
            "3.4028235e+38\n",
            "1.1920929e-07\n",
            "-1.7976931348623157e+308\n",
            "1.7976931348623157e+308\n",
            "2.220446049250313e-16\n"
          ]
        }
      ],
      "source": [
        "import numpy as np\n",
        "for dtype in[np.int8,np.int32,np.int64]:\n",
        "  print(np.iinfo(dtype).min)\n",
        "  print(np.iinfo(dtype).max)\n",
        "for dtype in[np.float32,float64]:\n",
        "  print(np.finfo(dtype).min)\n",
        "  print(np.finfo(dtype).max)\n",
        "  print(np.finfo(dtype).eps)"
      ]
    },
    {
      "cell_type": "markdown",
      "id": "9b317a98",
      "metadata": {
        "id": "9b317a98"
      },
      "source": [
        "#### 49. How to print all the values of an array? (★★☆)"
      ]
    },
    {
      "cell_type": "code",
      "execution_count": 79,
      "id": "309cdeb9",
      "metadata": {
        "id": "309cdeb9",
        "colab": {
          "base_uri": "https://localhost:8080/"
        },
        "outputId": "6e6bd605-d7e7-4f32-e523-897b693fc864"
      },
      "outputs": [
        {
          "output_type": "stream",
          "name": "stdout",
          "text": [
            "[[0. 0. 0. 0. 0. 0. 0. 0. 0. 0. 0. 0. 0. 0. 0. 0. 0. 0. 0. 0. 0. 0. 0. 0.\n",
            "  0. 0. 0. 0. 0. 0.]\n",
            " [0. 0. 0. 0. 0. 0. 0. 0. 0. 0. 0. 0. 0. 0. 0. 0. 0. 0. 0. 0. 0. 0. 0. 0.\n",
            "  0. 0. 0. 0. 0. 0.]\n",
            " [0. 0. 0. 0. 0. 0. 0. 0. 0. 0. 0. 0. 0. 0. 0. 0. 0. 0. 0. 0. 0. 0. 0. 0.\n",
            "  0. 0. 0. 0. 0. 0.]\n",
            " [0. 0. 0. 0. 0. 0. 0. 0. 0. 0. 0. 0. 0. 0. 0. 0. 0. 0. 0. 0. 0. 0. 0. 0.\n",
            "  0. 0. 0. 0. 0. 0.]\n",
            " [0. 0. 0. 0. 0. 0. 0. 0. 0. 0. 0. 0. 0. 0. 0. 0. 0. 0. 0. 0. 0. 0. 0. 0.\n",
            "  0. 0. 0. 0. 0. 0.]\n",
            " [0. 0. 0. 0. 0. 0. 0. 0. 0. 0. 0. 0. 0. 0. 0. 0. 0. 0. 0. 0. 0. 0. 0. 0.\n",
            "  0. 0. 0. 0. 0. 0.]\n",
            " [0. 0. 0. 0. 0. 0. 0. 0. 0. 0. 0. 0. 0. 0. 0. 0. 0. 0. 0. 0. 0. 0. 0. 0.\n",
            "  0. 0. 0. 0. 0. 0.]\n",
            " [0. 0. 0. 0. 0. 0. 0. 0. 0. 0. 0. 0. 0. 0. 0. 0. 0. 0. 0. 0. 0. 0. 0. 0.\n",
            "  0. 0. 0. 0. 0. 0.]\n",
            " [0. 0. 0. 0. 0. 0. 0. 0. 0. 0. 0. 0. 0. 0. 0. 0. 0. 0. 0. 0. 0. 0. 0. 0.\n",
            "  0. 0. 0. 0. 0. 0.]\n",
            " [0. 0. 0. 0. 0. 0. 0. 0. 0. 0. 0. 0. 0. 0. 0. 0. 0. 0. 0. 0. 0. 0. 0. 0.\n",
            "  0. 0. 0. 0. 0. 0.]\n",
            " [0. 0. 0. 0. 0. 0. 0. 0. 0. 0. 0. 0. 0. 0. 0. 0. 0. 0. 0. 0. 0. 0. 0. 0.\n",
            "  0. 0. 0. 0. 0. 0.]\n",
            " [0. 0. 0. 0. 0. 0. 0. 0. 0. 0. 0. 0. 0. 0. 0. 0. 0. 0. 0. 0. 0. 0. 0. 0.\n",
            "  0. 0. 0. 0. 0. 0.]\n",
            " [0. 0. 0. 0. 0. 0. 0. 0. 0. 0. 0. 0. 0. 0. 0. 0. 0. 0. 0. 0. 0. 0. 0. 0.\n",
            "  0. 0. 0. 0. 0. 0.]\n",
            " [0. 0. 0. 0. 0. 0. 0. 0. 0. 0. 0. 0. 0. 0. 0. 0. 0. 0. 0. 0. 0. 0. 0. 0.\n",
            "  0. 0. 0. 0. 0. 0.]\n",
            " [0. 0. 0. 0. 0. 0. 0. 0. 0. 0. 0. 0. 0. 0. 0. 0. 0. 0. 0. 0. 0. 0. 0. 0.\n",
            "  0. 0. 0. 0. 0. 0.]\n",
            " [0. 0. 0. 0. 0. 0. 0. 0. 0. 0. 0. 0. 0. 0. 0. 0. 0. 0. 0. 0. 0. 0. 0. 0.\n",
            "  0. 0. 0. 0. 0. 0.]\n",
            " [0. 0. 0. 0. 0. 0. 0. 0. 0. 0. 0. 0. 0. 0. 0. 0. 0. 0. 0. 0. 0. 0. 0. 0.\n",
            "  0. 0. 0. 0. 0. 0.]\n",
            " [0. 0. 0. 0. 0. 0. 0. 0. 0. 0. 0. 0. 0. 0. 0. 0. 0. 0. 0. 0. 0. 0. 0. 0.\n",
            "  0. 0. 0. 0. 0. 0.]\n",
            " [0. 0. 0. 0. 0. 0. 0. 0. 0. 0. 0. 0. 0. 0. 0. 0. 0. 0. 0. 0. 0. 0. 0. 0.\n",
            "  0. 0. 0. 0. 0. 0.]\n",
            " [0. 0. 0. 0. 0. 0. 0. 0. 0. 0. 0. 0. 0. 0. 0. 0. 0. 0. 0. 0. 0. 0. 0. 0.\n",
            "  0. 0. 0. 0. 0. 0.]\n",
            " [0. 0. 0. 0. 0. 0. 0. 0. 0. 0. 0. 0. 0. 0. 0. 0. 0. 0. 0. 0. 0. 0. 0. 0.\n",
            "  0. 0. 0. 0. 0. 0.]\n",
            " [0. 0. 0. 0. 0. 0. 0. 0. 0. 0. 0. 0. 0. 0. 0. 0. 0. 0. 0. 0. 0. 0. 0. 0.\n",
            "  0. 0. 0. 0. 0. 0.]\n",
            " [0. 0. 0. 0. 0. 0. 0. 0. 0. 0. 0. 0. 0. 0. 0. 0. 0. 0. 0. 0. 0. 0. 0. 0.\n",
            "  0. 0. 0. 0. 0. 0.]\n",
            " [0. 0. 0. 0. 0. 0. 0. 0. 0. 0. 0. 0. 0. 0. 0. 0. 0. 0. 0. 0. 0. 0. 0. 0.\n",
            "  0. 0. 0. 0. 0. 0.]\n",
            " [0. 0. 0. 0. 0. 0. 0. 0. 0. 0. 0. 0. 0. 0. 0. 0. 0. 0. 0. 0. 0. 0. 0. 0.\n",
            "  0. 0. 0. 0. 0. 0.]\n",
            " [0. 0. 0. 0. 0. 0. 0. 0. 0. 0. 0. 0. 0. 0. 0. 0. 0. 0. 0. 0. 0. 0. 0. 0.\n",
            "  0. 0. 0. 0. 0. 0.]\n",
            " [0. 0. 0. 0. 0. 0. 0. 0. 0. 0. 0. 0. 0. 0. 0. 0. 0. 0. 0. 0. 0. 0. 0. 0.\n",
            "  0. 0. 0. 0. 0. 0.]\n",
            " [0. 0. 0. 0. 0. 0. 0. 0. 0. 0. 0. 0. 0. 0. 0. 0. 0. 0. 0. 0. 0. 0. 0. 0.\n",
            "  0. 0. 0. 0. 0. 0.]\n",
            " [0. 0. 0. 0. 0. 0. 0. 0. 0. 0. 0. 0. 0. 0. 0. 0. 0. 0. 0. 0. 0. 0. 0. 0.\n",
            "  0. 0. 0. 0. 0. 0.]\n",
            " [0. 0. 0. 0. 0. 0. 0. 0. 0. 0. 0. 0. 0. 0. 0. 0. 0. 0. 0. 0. 0. 0. 0. 0.\n",
            "  0. 0. 0. 0. 0. 0.]\n",
            " [0. 0. 0. 0. 0. 0. 0. 0. 0. 0. 0. 0. 0. 0. 0. 0. 0. 0. 0. 0. 0. 0. 0. 0.\n",
            "  0. 0. 0. 0. 0. 0.]\n",
            " [0. 0. 0. 0. 0. 0. 0. 0. 0. 0. 0. 0. 0. 0. 0. 0. 0. 0. 0. 0. 0. 0. 0. 0.\n",
            "  0. 0. 0. 0. 0. 0.]\n",
            " [0. 0. 0. 0. 0. 0. 0. 0. 0. 0. 0. 0. 0. 0. 0. 0. 0. 0. 0. 0. 0. 0. 0. 0.\n",
            "  0. 0. 0. 0. 0. 0.]\n",
            " [0. 0. 0. 0. 0. 0. 0. 0. 0. 0. 0. 0. 0. 0. 0. 0. 0. 0. 0. 0. 0. 0. 0. 0.\n",
            "  0. 0. 0. 0. 0. 0.]\n",
            " [0. 0. 0. 0. 0. 0. 0. 0. 0. 0. 0. 0. 0. 0. 0. 0. 0. 0. 0. 0. 0. 0. 0. 0.\n",
            "  0. 0. 0. 0. 0. 0.]\n",
            " [0. 0. 0. 0. 0. 0. 0. 0. 0. 0. 0. 0. 0. 0. 0. 0. 0. 0. 0. 0. 0. 0. 0. 0.\n",
            "  0. 0. 0. 0. 0. 0.]\n",
            " [0. 0. 0. 0. 0. 0. 0. 0. 0. 0. 0. 0. 0. 0. 0. 0. 0. 0. 0. 0. 0. 0. 0. 0.\n",
            "  0. 0. 0. 0. 0. 0.]\n",
            " [0. 0. 0. 0. 0. 0. 0. 0. 0. 0. 0. 0. 0. 0. 0. 0. 0. 0. 0. 0. 0. 0. 0. 0.\n",
            "  0. 0. 0. 0. 0. 0.]\n",
            " [0. 0. 0. 0. 0. 0. 0. 0. 0. 0. 0. 0. 0. 0. 0. 0. 0. 0. 0. 0. 0. 0. 0. 0.\n",
            "  0. 0. 0. 0. 0. 0.]\n",
            " [0. 0. 0. 0. 0. 0. 0. 0. 0. 0. 0. 0. 0. 0. 0. 0. 0. 0. 0. 0. 0. 0. 0. 0.\n",
            "  0. 0. 0. 0. 0. 0.]\n",
            " [0. 0. 0. 0. 0. 0. 0. 0. 0. 0. 0. 0. 0. 0. 0. 0. 0. 0. 0. 0. 0. 0. 0. 0.\n",
            "  0. 0. 0. 0. 0. 0.]\n",
            " [0. 0. 0. 0. 0. 0. 0. 0. 0. 0. 0. 0. 0. 0. 0. 0. 0. 0. 0. 0. 0. 0. 0. 0.\n",
            "  0. 0. 0. 0. 0. 0.]\n",
            " [0. 0. 0. 0. 0. 0. 0. 0. 0. 0. 0. 0. 0. 0. 0. 0. 0. 0. 0. 0. 0. 0. 0. 0.\n",
            "  0. 0. 0. 0. 0. 0.]\n",
            " [0. 0. 0. 0. 0. 0. 0. 0. 0. 0. 0. 0. 0. 0. 0. 0. 0. 0. 0. 0. 0. 0. 0. 0.\n",
            "  0. 0. 0. 0. 0. 0.]\n",
            " [0. 0. 0. 0. 0. 0. 0. 0. 0. 0. 0. 0. 0. 0. 0. 0. 0. 0. 0. 0. 0. 0. 0. 0.\n",
            "  0. 0. 0. 0. 0. 0.]\n",
            " [0. 0. 0. 0. 0. 0. 0. 0. 0. 0. 0. 0. 0. 0. 0. 0. 0. 0. 0. 0. 0. 0. 0. 0.\n",
            "  0. 0. 0. 0. 0. 0.]\n",
            " [0. 0. 0. 0. 0. 0. 0. 0. 0. 0. 0. 0. 0. 0. 0. 0. 0. 0. 0. 0. 0. 0. 0. 0.\n",
            "  0. 0. 0. 0. 0. 0.]\n",
            " [0. 0. 0. 0. 0. 0. 0. 0. 0. 0. 0. 0. 0. 0. 0. 0. 0. 0. 0. 0. 0. 0. 0. 0.\n",
            "  0. 0. 0. 0. 0. 0.]\n",
            " [0. 0. 0. 0. 0. 0. 0. 0. 0. 0. 0. 0. 0. 0. 0. 0. 0. 0. 0. 0. 0. 0. 0. 0.\n",
            "  0. 0. 0. 0. 0. 0.]\n",
            " [0. 0. 0. 0. 0. 0. 0. 0. 0. 0. 0. 0. 0. 0. 0. 0. 0. 0. 0. 0. 0. 0. 0. 0.\n",
            "  0. 0. 0. 0. 0. 0.]\n",
            " [0. 0. 0. 0. 0. 0. 0. 0. 0. 0. 0. 0. 0. 0. 0. 0. 0. 0. 0. 0. 0. 0. 0. 0.\n",
            "  0. 0. 0. 0. 0. 0.]\n",
            " [0. 0. 0. 0. 0. 0. 0. 0. 0. 0. 0. 0. 0. 0. 0. 0. 0. 0. 0. 0. 0. 0. 0. 0.\n",
            "  0. 0. 0. 0. 0. 0.]\n",
            " [0. 0. 0. 0. 0. 0. 0. 0. 0. 0. 0. 0. 0. 0. 0. 0. 0. 0. 0. 0. 0. 0. 0. 0.\n",
            "  0. 0. 0. 0. 0. 0.]\n",
            " [0. 0. 0. 0. 0. 0. 0. 0. 0. 0. 0. 0. 0. 0. 0. 0. 0. 0. 0. 0. 0. 0. 0. 0.\n",
            "  0. 0. 0. 0. 0. 0.]\n",
            " [0. 0. 0. 0. 0. 0. 0. 0. 0. 0. 0. 0. 0. 0. 0. 0. 0. 0. 0. 0. 0. 0. 0. 0.\n",
            "  0. 0. 0. 0. 0. 0.]\n",
            " [0. 0. 0. 0. 0. 0. 0. 0. 0. 0. 0. 0. 0. 0. 0. 0. 0. 0. 0. 0. 0. 0. 0. 0.\n",
            "  0. 0. 0. 0. 0. 0.]\n",
            " [0. 0. 0. 0. 0. 0. 0. 0. 0. 0. 0. 0. 0. 0. 0. 0. 0. 0. 0. 0. 0. 0. 0. 0.\n",
            "  0. 0. 0. 0. 0. 0.]\n",
            " [0. 0. 0. 0. 0. 0. 0. 0. 0. 0. 0. 0. 0. 0. 0. 0. 0. 0. 0. 0. 0. 0. 0. 0.\n",
            "  0. 0. 0. 0. 0. 0.]\n",
            " [0. 0. 0. 0. 0. 0. 0. 0. 0. 0. 0. 0. 0. 0. 0. 0. 0. 0. 0. 0. 0. 0. 0. 0.\n",
            "  0. 0. 0. 0. 0. 0.]\n",
            " [0. 0. 0. 0. 0. 0. 0. 0. 0. 0. 0. 0. 0. 0. 0. 0. 0. 0. 0. 0. 0. 0. 0. 0.\n",
            "  0. 0. 0. 0. 0. 0.]]\n"
          ]
        }
      ],
      "source": [
        "import numpy as np\n",
        "np.set_printoptions(threshold=float(\"inf\"))\n",
        "P=np.zeros((60,30))\n",
        "print(P)\n"
      ]
    },
    {
      "cell_type": "markdown",
      "id": "b580f9d0",
      "metadata": {
        "id": "b580f9d0"
      },
      "source": [
        "#### 50. How to find the closest value (to a given scalar) in a vector? (★★☆)"
      ]
    },
    {
      "cell_type": "code",
      "execution_count": 80,
      "id": "ebfb6714",
      "metadata": {
        "id": "ebfb6714",
        "colab": {
          "base_uri": "https://localhost:8080/"
        },
        "outputId": "32490f2a-b3b0-4b8e-d9b0-488fafcba75c"
      },
      "outputs": [
        {
          "output_type": "stream",
          "name": "stdout",
          "text": [
            "288\n"
          ]
        }
      ],
      "source": [
        "S=np.arange(350)\n",
        "v=np.random.uniform(0,350)\n",
        "index=(np.abs(S-v)).argmin()\n",
        "print(S[index])"
      ]
    },
    {
      "cell_type": "markdown",
      "id": "602e6252",
      "metadata": {
        "id": "602e6252"
      },
      "source": [
        "#### 51. Create a structured array representing a position (x,y) and a color (r,g,b) (★★☆)"
      ]
    },
    {
      "cell_type": "code",
      "execution_count": null,
      "id": "cf002b3a",
      "metadata": {
        "id": "cf002b3a"
      },
      "outputs": [],
      "source": []
    },
    {
      "cell_type": "markdown",
      "id": "78bcd92f",
      "metadata": {
        "id": "78bcd92f"
      },
      "source": [
        "#### 52. Consider a random vector with shape (100,2) representing coordinates, find point by point distances (★★☆)"
      ]
    },
    {
      "cell_type": "code",
      "execution_count": null,
      "id": "fea7f9a6",
      "metadata": {
        "id": "fea7f9a6"
      },
      "outputs": [],
      "source": []
    },
    {
      "cell_type": "markdown",
      "id": "343c5a85",
      "metadata": {
        "id": "343c5a85"
      },
      "source": [
        "#### 53. How to convert a float (32 bits) array into an integer (32 bits) in place?"
      ]
    },
    {
      "cell_type": "code",
      "execution_count": null,
      "id": "fc1b687b",
      "metadata": {
        "id": "fc1b687b"
      },
      "outputs": [],
      "source": []
    },
    {
      "cell_type": "markdown",
      "id": "a69e1ace",
      "metadata": {
        "id": "a69e1ace"
      },
      "source": [
        "#### 54. How to read the following file? (★★☆)\n",
        "```\n",
        "1, 2, 3, 4, 5\n",
        "6,  ,  , 7, 8\n",
        " ,  , 9,10,11\n",
        "```"
      ]
    },
    {
      "cell_type": "code",
      "execution_count": null,
      "id": "1c7957d4",
      "metadata": {
        "id": "1c7957d4"
      },
      "outputs": [],
      "source": []
    },
    {
      "cell_type": "markdown",
      "id": "c23bd80d",
      "metadata": {
        "id": "c23bd80d"
      },
      "source": [
        "#### 55. What is the equivalent of enumerate for numpy arrays? (★★☆)"
      ]
    },
    {
      "cell_type": "code",
      "execution_count": null,
      "id": "d95d9578",
      "metadata": {
        "id": "d95d9578"
      },
      "outputs": [],
      "source": []
    },
    {
      "cell_type": "markdown",
      "id": "2153a5ec",
      "metadata": {
        "id": "2153a5ec"
      },
      "source": [
        "#### 56. Generate a generic 2D Gaussian-like array (★★☆)"
      ]
    },
    {
      "cell_type": "code",
      "execution_count": null,
      "id": "61122d1e",
      "metadata": {
        "id": "61122d1e"
      },
      "outputs": [],
      "source": []
    },
    {
      "cell_type": "markdown",
      "id": "2e76d589",
      "metadata": {
        "id": "2e76d589"
      },
      "source": [
        "#### 57. How to randomly place p elements in a 2D array? (★★☆)"
      ]
    },
    {
      "cell_type": "code",
      "execution_count": null,
      "id": "0c2e4fcc",
      "metadata": {
        "id": "0c2e4fcc"
      },
      "outputs": [],
      "source": []
    },
    {
      "cell_type": "markdown",
      "id": "8b3933eb",
      "metadata": {
        "id": "8b3933eb"
      },
      "source": [
        "#### 58. Subtract the mean of each row of a matrix (★★☆)"
      ]
    },
    {
      "cell_type": "code",
      "execution_count": null,
      "id": "a306c9ef",
      "metadata": {
        "id": "a306c9ef"
      },
      "outputs": [],
      "source": []
    },
    {
      "cell_type": "markdown",
      "id": "ea8807c0",
      "metadata": {
        "id": "ea8807c0"
      },
      "source": [
        "#### 59. How to sort an array by the nth column? (★★☆)"
      ]
    },
    {
      "cell_type": "code",
      "execution_count": null,
      "id": "cc89a699",
      "metadata": {
        "id": "cc89a699"
      },
      "outputs": [],
      "source": []
    },
    {
      "cell_type": "markdown",
      "id": "00fa00a1",
      "metadata": {
        "id": "00fa00a1"
      },
      "source": [
        "#### 60. How to tell if a given 2D array has null columns? (★★☆)"
      ]
    },
    {
      "cell_type": "code",
      "execution_count": null,
      "id": "3436e165",
      "metadata": {
        "id": "3436e165"
      },
      "outputs": [],
      "source": []
    },
    {
      "cell_type": "markdown",
      "id": "5a65c7a2",
      "metadata": {
        "id": "5a65c7a2"
      },
      "source": [
        "#### 61. Find the nearest value from a given value in an array (★★☆)"
      ]
    },
    {
      "cell_type": "code",
      "execution_count": null,
      "id": "73f149d6",
      "metadata": {
        "id": "73f149d6"
      },
      "outputs": [],
      "source": []
    },
    {
      "cell_type": "markdown",
      "id": "dd83e8af",
      "metadata": {
        "id": "dd83e8af"
      },
      "source": [
        "#### 62. Considering two arrays with shape (1,3) and (3,1), how to compute their sum using an iterator? (★★☆)"
      ]
    },
    {
      "cell_type": "code",
      "execution_count": null,
      "id": "29a709a1",
      "metadata": {
        "id": "29a709a1"
      },
      "outputs": [],
      "source": []
    },
    {
      "cell_type": "markdown",
      "id": "6c042efa",
      "metadata": {
        "id": "6c042efa"
      },
      "source": [
        "#### 63. Create an array class that has a name attribute (★★☆)"
      ]
    },
    {
      "cell_type": "code",
      "execution_count": null,
      "id": "45b3d2e0",
      "metadata": {
        "id": "45b3d2e0"
      },
      "outputs": [],
      "source": []
    },
    {
      "cell_type": "markdown",
      "id": "0a075c3d",
      "metadata": {
        "id": "0a075c3d"
      },
      "source": [
        "#### 64. Consider a given vector, how to add 1 to each element indexed by a second vector (be careful with repeated indices)? (★★★)"
      ]
    },
    {
      "cell_type": "code",
      "execution_count": null,
      "id": "36c50470",
      "metadata": {
        "id": "36c50470"
      },
      "outputs": [],
      "source": []
    },
    {
      "cell_type": "markdown",
      "id": "0fb2f0c5",
      "metadata": {
        "id": "0fb2f0c5"
      },
      "source": [
        "#### 65. How to accumulate elements of a vector (X) to an array (F) based on an index list (I)? (★★★)"
      ]
    },
    {
      "cell_type": "code",
      "execution_count": null,
      "id": "58aa5f82",
      "metadata": {
        "id": "58aa5f82"
      },
      "outputs": [],
      "source": []
    },
    {
      "cell_type": "markdown",
      "id": "d89dc506",
      "metadata": {
        "id": "d89dc506"
      },
      "source": [
        "#### 66. Considering a (w,h,3) image of (dtype=ubyte), compute the number of unique colors (★★☆)"
      ]
    },
    {
      "cell_type": "code",
      "execution_count": null,
      "id": "8fb43a49",
      "metadata": {
        "id": "8fb43a49"
      },
      "outputs": [],
      "source": []
    },
    {
      "cell_type": "markdown",
      "id": "535a5d81",
      "metadata": {
        "id": "535a5d81"
      },
      "source": [
        "#### 67. Considering a four dimensions array, how to get sum over the last two axis at once? (★★★)"
      ]
    },
    {
      "cell_type": "code",
      "execution_count": null,
      "id": "f954ab9d",
      "metadata": {
        "id": "f954ab9d"
      },
      "outputs": [],
      "source": []
    },
    {
      "cell_type": "markdown",
      "id": "eee66d3c",
      "metadata": {
        "id": "eee66d3c"
      },
      "source": [
        "#### 68. Considering a one-dimensional vector D, how to compute means of subsets of D using a vector S of same size describing subset  indices? (★★★)"
      ]
    },
    {
      "cell_type": "code",
      "execution_count": null,
      "id": "8929773a",
      "metadata": {
        "id": "8929773a"
      },
      "outputs": [],
      "source": []
    },
    {
      "cell_type": "markdown",
      "id": "f90d4c40",
      "metadata": {
        "id": "f90d4c40"
      },
      "source": [
        "#### 69. How to get the diagonal of a dot product? (★★★)"
      ]
    },
    {
      "cell_type": "code",
      "execution_count": null,
      "id": "b47d392d",
      "metadata": {
        "id": "b47d392d"
      },
      "outputs": [],
      "source": []
    },
    {
      "cell_type": "markdown",
      "id": "a8a97e7d",
      "metadata": {
        "id": "a8a97e7d"
      },
      "source": [
        "#### 70. Consider the vector [1, 2, 3, 4, 5], how to build a new vector with 3 consecutive zeros interleaved between each value? (★★★)"
      ]
    },
    {
      "cell_type": "code",
      "execution_count": null,
      "id": "ee6c6c37",
      "metadata": {
        "id": "ee6c6c37"
      },
      "outputs": [],
      "source": []
    },
    {
      "cell_type": "markdown",
      "id": "d6a30d60",
      "metadata": {
        "id": "d6a30d60"
      },
      "source": [
        "#### 71. Consider an array of dimension (5,5,3), how to mulitply it by an array with dimensions (5,5)? (★★★)"
      ]
    },
    {
      "cell_type": "code",
      "execution_count": null,
      "id": "e9703f2e",
      "metadata": {
        "id": "e9703f2e"
      },
      "outputs": [],
      "source": []
    },
    {
      "cell_type": "markdown",
      "id": "bac359a9",
      "metadata": {
        "id": "bac359a9"
      },
      "source": [
        "#### 72. How to swap two rows of an array? (★★★)"
      ]
    },
    {
      "cell_type": "code",
      "execution_count": null,
      "id": "f1b432b1",
      "metadata": {
        "id": "f1b432b1"
      },
      "outputs": [],
      "source": []
    },
    {
      "cell_type": "markdown",
      "id": "620c9f83",
      "metadata": {
        "id": "620c9f83"
      },
      "source": [
        "#### 73. Consider a set of 10 triplets describing 10 triangles (with shared vertices), find the set of unique line segments composing all the  triangles (★★★)"
      ]
    },
    {
      "cell_type": "code",
      "execution_count": null,
      "id": "4e595ffc",
      "metadata": {
        "id": "4e595ffc"
      },
      "outputs": [],
      "source": []
    },
    {
      "cell_type": "markdown",
      "id": "a76c55a2",
      "metadata": {
        "id": "a76c55a2"
      },
      "source": [
        "#### 74. Given a sorted array C that corresponds to a bincount, how to produce an array A such that np.bincount(A) == C? (★★★)"
      ]
    },
    {
      "cell_type": "code",
      "execution_count": null,
      "id": "2d2ae65a",
      "metadata": {
        "id": "2d2ae65a"
      },
      "outputs": [],
      "source": []
    },
    {
      "cell_type": "markdown",
      "id": "d550c8e2",
      "metadata": {
        "id": "d550c8e2"
      },
      "source": [
        "#### 75. How to compute averages using a sliding window over an array? (★★★)"
      ]
    },
    {
      "cell_type": "code",
      "execution_count": null,
      "id": "841c457c",
      "metadata": {
        "id": "841c457c"
      },
      "outputs": [],
      "source": []
    },
    {
      "cell_type": "markdown",
      "id": "6b170b00",
      "metadata": {
        "id": "6b170b00"
      },
      "source": [
        "#### 76. Consider a one-dimensional array Z, build a two-dimensional array whose first row is (Z[0],Z[1],Z[2]) and each subsequent row is  shifted by 1 (last row should be (Z[-3],Z[-2],Z[-1]) (★★★)"
      ]
    },
    {
      "cell_type": "code",
      "execution_count": null,
      "id": "d9a0cf4e",
      "metadata": {
        "id": "d9a0cf4e"
      },
      "outputs": [],
      "source": []
    },
    {
      "cell_type": "markdown",
      "id": "e94a5c1d",
      "metadata": {
        "id": "e94a5c1d"
      },
      "source": [
        "#### 77. How to negate a boolean, or to change the sign of a float inplace? (★★★)"
      ]
    },
    {
      "cell_type": "code",
      "execution_count": null,
      "id": "c0f9504f",
      "metadata": {
        "id": "c0f9504f"
      },
      "outputs": [],
      "source": []
    },
    {
      "cell_type": "markdown",
      "id": "4eb8b5c1",
      "metadata": {
        "id": "4eb8b5c1"
      },
      "source": [
        "#### 78. Consider 2 sets of points P0,P1 describing lines (2d) and a point p, how to compute distance from p to each line i (P0[i],P1[i])? (★★★)"
      ]
    },
    {
      "cell_type": "code",
      "execution_count": null,
      "id": "487f47ec",
      "metadata": {
        "id": "487f47ec"
      },
      "outputs": [],
      "source": []
    },
    {
      "cell_type": "markdown",
      "id": "3df99948",
      "metadata": {
        "id": "3df99948"
      },
      "source": [
        "#### 79. Consider 2 sets of points P0,P1 describing lines (2d) and a set of points P, how to compute distance from each point j (P[j]) to each line i (P0[i],P1[i])? (★★★)"
      ]
    },
    {
      "cell_type": "code",
      "execution_count": null,
      "id": "dc2df37b",
      "metadata": {
        "id": "dc2df37b"
      },
      "outputs": [],
      "source": []
    },
    {
      "cell_type": "markdown",
      "id": "11e972c2",
      "metadata": {
        "id": "11e972c2"
      },
      "source": [
        "#### 80. Consider an arbitrary array, write a function that extract a subpart with a fixed shape and centered on a given element (pad with a `fill` value when necessary) (★★★)"
      ]
    },
    {
      "cell_type": "code",
      "execution_count": null,
      "id": "0291247f",
      "metadata": {
        "id": "0291247f"
      },
      "outputs": [],
      "source": []
    },
    {
      "cell_type": "markdown",
      "id": "93cfeab3",
      "metadata": {
        "id": "93cfeab3"
      },
      "source": [
        "#### 81. Consider an array Z = [1,2,3,4,5,6,7,8,9,10,11,12,13,14], how to generate an array R = [[1,2,3,4], [2,3,4,5], [3,4,5,6], ..., [11,12,13,14]]? (★★★)"
      ]
    },
    {
      "cell_type": "code",
      "execution_count": null,
      "id": "360de791",
      "metadata": {
        "id": "360de791"
      },
      "outputs": [],
      "source": []
    },
    {
      "cell_type": "markdown",
      "id": "4c15ceff",
      "metadata": {
        "id": "4c15ceff"
      },
      "source": [
        "#### 82. Compute a matrix rank (★★★)"
      ]
    },
    {
      "cell_type": "code",
      "execution_count": null,
      "id": "9a4272d2",
      "metadata": {
        "id": "9a4272d2"
      },
      "outputs": [],
      "source": []
    },
    {
      "cell_type": "markdown",
      "id": "1171cb84",
      "metadata": {
        "id": "1171cb84"
      },
      "source": [
        "#### 83. How to find the most frequent value in an array?"
      ]
    },
    {
      "cell_type": "code",
      "execution_count": null,
      "id": "33e951c8",
      "metadata": {
        "id": "33e951c8"
      },
      "outputs": [],
      "source": []
    },
    {
      "cell_type": "markdown",
      "id": "04f472aa",
      "metadata": {
        "id": "04f472aa"
      },
      "source": [
        "#### 84. Extract all the contiguous 3x3 blocks from a random 10x10 matrix (★★★)"
      ]
    },
    {
      "cell_type": "code",
      "execution_count": null,
      "id": "7aade14a",
      "metadata": {
        "id": "7aade14a"
      },
      "outputs": [],
      "source": []
    },
    {
      "cell_type": "markdown",
      "id": "52836346",
      "metadata": {
        "id": "52836346"
      },
      "source": [
        "#### 85. Create a 2D array subclass such that Z[i,j] == Z[j,i] (★★★)"
      ]
    },
    {
      "cell_type": "code",
      "execution_count": null,
      "id": "4df70318",
      "metadata": {
        "id": "4df70318"
      },
      "outputs": [],
      "source": []
    },
    {
      "cell_type": "markdown",
      "id": "78c43ee5",
      "metadata": {
        "id": "78c43ee5"
      },
      "source": [
        "#### 86. Consider a set of p matrices with shape (n,n) and a set of p vectors with shape (n,1). How to compute the sum of of the p matrix products at once? (result has shape (n,1)) (★★★)"
      ]
    },
    {
      "cell_type": "code",
      "execution_count": null,
      "id": "32fd2c3b",
      "metadata": {
        "id": "32fd2c3b"
      },
      "outputs": [],
      "source": []
    },
    {
      "cell_type": "markdown",
      "id": "158f9945",
      "metadata": {
        "id": "158f9945"
      },
      "source": [
        "#### 87. Consider a 16x16 array, how to get the block-sum (block size is 4x4)? (★★★)"
      ]
    },
    {
      "cell_type": "code",
      "execution_count": null,
      "id": "5a9b808f",
      "metadata": {
        "id": "5a9b808f"
      },
      "outputs": [],
      "source": []
    },
    {
      "cell_type": "markdown",
      "id": "2e0ad860",
      "metadata": {
        "id": "2e0ad860"
      },
      "source": [
        "#### 88. How to implement the Game of Life using numpy arrays? (★★★)"
      ]
    },
    {
      "cell_type": "code",
      "execution_count": null,
      "id": "574acff5",
      "metadata": {
        "id": "574acff5"
      },
      "outputs": [],
      "source": []
    },
    {
      "cell_type": "markdown",
      "id": "69a892fa",
      "metadata": {
        "id": "69a892fa"
      },
      "source": [
        "#### 89. How to get the n largest values of an array (★★★)"
      ]
    },
    {
      "cell_type": "code",
      "execution_count": null,
      "id": "21b2bd48",
      "metadata": {
        "id": "21b2bd48"
      },
      "outputs": [],
      "source": []
    },
    {
      "cell_type": "markdown",
      "id": "b55ccacc",
      "metadata": {
        "id": "b55ccacc"
      },
      "source": [
        "#### 90. Given an arbitrary number of vectors, build the cartesian product (every combinations of every item) (★★★)"
      ]
    },
    {
      "cell_type": "code",
      "execution_count": null,
      "id": "4b645da4",
      "metadata": {
        "id": "4b645da4"
      },
      "outputs": [],
      "source": []
    },
    {
      "cell_type": "markdown",
      "id": "89187a23",
      "metadata": {
        "id": "89187a23"
      },
      "source": [
        "#### 91. How to create a record array from a regular array? (★★★)"
      ]
    },
    {
      "cell_type": "code",
      "execution_count": null,
      "id": "da94c71a",
      "metadata": {
        "id": "da94c71a"
      },
      "outputs": [],
      "source": []
    },
    {
      "cell_type": "markdown",
      "id": "aa70d4ca",
      "metadata": {
        "id": "aa70d4ca"
      },
      "source": [
        "#### 92. Consider a large vector Z, compute Z to the power of 3 using 3 different methods (★★★)"
      ]
    },
    {
      "cell_type": "code",
      "execution_count": null,
      "id": "7cff1bf5",
      "metadata": {
        "id": "7cff1bf5"
      },
      "outputs": [],
      "source": []
    },
    {
      "cell_type": "markdown",
      "id": "5f79dd00",
      "metadata": {
        "id": "5f79dd00"
      },
      "source": [
        "#### 93. Consider two arrays A and B of shape (8,3) and (2,2). How to find rows of A that contain elements of each row of B regardless of the order of the elements in B? (★★★)"
      ]
    },
    {
      "cell_type": "code",
      "execution_count": null,
      "id": "20c105b2",
      "metadata": {
        "id": "20c105b2"
      },
      "outputs": [],
      "source": []
    },
    {
      "cell_type": "markdown",
      "id": "a80570cd",
      "metadata": {
        "id": "a80570cd"
      },
      "source": [
        "#### 94. Considering a 10x3 matrix, extract rows with unequal values (e.g. [2,2,3]) (★★★)"
      ]
    },
    {
      "cell_type": "code",
      "execution_count": 100,
      "id": "84db8de1",
      "metadata": {
        "id": "84db8de1",
        "colab": {
          "base_uri": "https://localhost:8080/"
        },
        "outputId": "81d07fb9-8d0b-400a-a9a9-4badba981d2b"
      },
      "outputs": [
        {
          "output_type": "stream",
          "name": "stdout",
          "text": [
            "[[0 2 2]\n",
            " [3 4 3]\n",
            " [0 2 3]\n",
            " [0 4 2]\n",
            " [4 0 3]\n",
            " [4 3 2]\n",
            " [1 3 1]\n",
            " [4 0 2]\n",
            " [1 0 4]\n",
            " [4 1 1]]\n",
            "[]\n",
            "[[0 2 2]\n",
            " [3 4 3]\n",
            " [0 2 3]\n",
            " [0 4 2]\n",
            " [4 0 3]\n",
            " [4 3 2]\n",
            " [1 3 1]\n",
            " [4 0 2]\n",
            " [1 0 4]\n",
            " [4 1 1]]\n"
          ]
        }
      ],
      "source": [
        "import numpy as np\n",
        "A = np.random.randint(0,5,(10,3))\n",
        "print(A)\n",
        "U=A[np.all(A[:,1:]==A[:,:-1],axis=1)]\n",
        "print(U)\n",
        "U=A[A.max(axis=1)!=A.min(axis=1),:]\n",
        "print(U)"
      ]
    },
    {
      "cell_type": "markdown",
      "id": "ba154f43",
      "metadata": {
        "id": "ba154f43"
      },
      "source": [
        "#### 95. Convert a vector of ints into a matrix binary representation (★★★)"
      ]
    },
    {
      "cell_type": "code",
      "execution_count": 92,
      "id": "cfa96e1b",
      "metadata": {
        "id": "cfa96e1b",
        "colab": {
          "base_uri": "https://localhost:8080/"
        },
        "outputId": "93b7ebdf-1928-484d-eb54-e2b3b818a1e4"
      },
      "outputs": [
        {
          "output_type": "stream",
          "name": "stdout",
          "text": [
            "[[0 0 0 0 0 0 0 0]\n",
            " [0 0 0 0 0 0 0 1]\n",
            " [0 0 0 0 0 0 1 0]\n",
            " [0 0 0 0 0 0 1 1]\n",
            " [0 0 0 0 1 1 1 1]\n",
            " [0 0 0 1 0 0 0 0]\n",
            " [0 0 1 0 0 0 0 0]\n",
            " [0 1 0 0 0 0 0 0]\n",
            " [1 0 0 0 0 0 0 0]]\n",
            "[[0 0 0 0 0 0 0 0]\n",
            " [0 0 0 0 0 0 0 1]\n",
            " [0 0 0 0 0 0 1 0]\n",
            " [0 0 0 0 0 0 1 1]\n",
            " [0 0 0 0 1 1 1 1]\n",
            " [0 0 0 1 0 0 0 0]\n",
            " [0 0 1 0 0 0 0 0]\n",
            " [0 1 0 0 0 0 0 0]\n",
            " [1 0 0 0 0 0 0 0]]\n"
          ]
        }
      ],
      "source": [
        "\n",
        "I=np.array([0,1,2,3,15,16,32,64,128],dtype=np.uint8)\n",
        "print(np.unpackbits(I[:,np.newaxis],axis=1))\n",
        "I=np.array([0, 1, 2, 3, 15, 16, 32, 64, 128],dtype=np.uint8)\n",
        "print(np.unpackbits(I[:,np.newaxis],axis=1))"
      ]
    },
    {
      "cell_type": "markdown",
      "id": "420e2343",
      "metadata": {
        "id": "420e2343"
      },
      "source": [
        "#### 96. Given a two dimensional array, how to extract unique rows? (★★★)"
      ]
    },
    {
      "cell_type": "code",
      "execution_count": 89,
      "id": "4680dfd0",
      "metadata": {
        "id": "4680dfd0",
        "colab": {
          "base_uri": "https://localhost:8080/"
        },
        "outputId": "15911a88-5dc4-4afc-ac72-f1344e8c9944"
      },
      "outputs": [
        {
          "output_type": "stream",
          "name": "stdout",
          "text": [
            "[[0 2 0 0 3 3]\n",
            " [0 2 1 3 1 2]\n",
            " [0 2 3 0 2 0]\n",
            " [0 2 3 3 1 2]\n",
            " [0 3 1 3 0 3]\n",
            " [1 0 1 1 0 3]\n",
            " [1 2 1 0 3 2]\n",
            " [1 3 0 1 3 2]\n",
            " [1 3 0 2 3 0]\n",
            " [2 2 3 0 0 1]\n",
            " [2 3 2 1 3 2]\n",
            " [3 3 3 2 0 0]]\n"
          ]
        }
      ],
      "source": [
        "A=np.random.randint(0,4,(12,6))\n",
        "T=np.ascontiguousarray(A).view(np.dtype((np.void,A.dtype.itemsize*A.shape[1])))\n",
        "_,idx=np.unique(T,return_index=True)\n",
        "uZ=A[idx]\n",
        "print(uZ)"
      ]
    },
    {
      "cell_type": "markdown",
      "id": "89fef2f3",
      "metadata": {
        "id": "89fef2f3"
      },
      "source": [
        "#### 97. Considering 2 vectors A & B, write the einsum equivalent of inner, outer, sum, and mul function (★★★)"
      ]
    },
    {
      "cell_type": "code",
      "execution_count": 88,
      "id": "bb9c14b2",
      "metadata": {
        "id": "bb9c14b2",
        "colab": {
          "base_uri": "https://localhost:8080/"
        },
        "outputId": "50a455a7-0f51-4f30-cf3d-f6f0b6e34202"
      },
      "outputs": [
        {
          "output_type": "execute_result",
          "data": {
            "text/plain": [
              "array([[3.11117099e-01, 1.73482871e-01, 3.12931743e-02, 1.60747708e-01,\n",
              "        2.70073268e-02, 1.71718326e-01, 3.22491858e-01, 5.52552522e-01,\n",
              "        3.66277942e-01, 5.55511066e-01, 3.48034834e-01, 1.62419940e-01,\n",
              "        6.94428505e-01, 7.63901039e-02, 5.01844479e-01, 5.59622501e-01,\n",
              "        5.89086950e-01, 2.61361377e-01, 4.85712793e-01, 5.73014583e-02],\n",
              "       [1.04478519e+00, 5.82585575e-01, 1.05087908e-01, 5.39818691e-01,\n",
              "        9.06952887e-02, 5.76659927e-01, 1.08298360e+00, 1.85556722e+00,\n",
              "        1.23002487e+00, 1.86550253e+00, 1.16876135e+00, 5.45434333e-01,\n",
              "        2.33201139e+00, 2.56531221e-01, 1.68528082e+00, 1.87930944e+00,\n",
              "        1.97825617e+00, 8.77696843e-01, 1.63110782e+00, 1.92428238e-01],\n",
              "       [6.09476606e-01, 3.39851945e-01, 6.13031483e-02, 3.14903835e-01,\n",
              "        5.29071978e-02, 3.36395212e-01, 6.31759693e-01, 1.08244721e+00,\n",
              "        7.17536379e-01, 1.08824298e+00, 6.81798237e-01, 3.18179727e-01,\n",
              "        1.36038144e+00, 1.49647774e-01, 9.83110446e-01, 1.09629726e+00,\n",
              "        1.15401794e+00, 5.12005432e-01, 9.51508565e-01, 1.12253227e-01],\n",
              "       [4.67625436e-01, 2.60753919e-01, 4.70352941e-02, 2.41612298e-01,\n",
              "        4.05934390e-02, 2.58101715e-01, 4.84722299e-01, 8.30515630e-01,\n",
              "        5.50535096e-01, 8.34962478e-01, 5.23114742e-01, 2.44125750e-01,\n",
              "        1.04376273e+00, 1.14818362e-01, 7.54298764e-01, 8.41142183e-01,\n",
              "        8.85428806e-01, 3.92839956e-01, 7.30051987e-01, 8.61271190e-02],\n",
              "       [8.13104256e-01, 4.53397325e-01, 8.17846825e-02, 4.20113990e-01,\n",
              "        7.05836242e-02, 4.48785689e-01, 8.42832178e-01, 1.44409551e+00,\n",
              "        9.57267068e-01, 1.45182767e+00, 9.09588724e-01, 4.24484365e-01,\n",
              "        1.81488827e+00, 1.99645467e-01, 1.31157009e+00, 1.46257290e+00,\n",
              "        1.53957821e+00, 6.83067721e-01, 1.26940994e+00, 1.49757309e-01],\n",
              "       [8.80571141e-01, 4.91017722e-01, 8.85707222e-02, 4.54972721e-01,\n",
              "        7.64402621e-02, 4.86023438e-01, 9.12765721e-01, 1.56391856e+00,\n",
              "        1.03669578e+00, 1.57229228e+00, 9.85061355e-01, 4.59705725e-01,\n",
              "        1.96547764e+00, 2.16210942e-01, 1.42039691e+00, 1.58392909e+00,\n",
              "        1.66732388e+00, 7.39744894e-01, 1.37473854e+00, 1.62183341e-01],\n",
              "       [1.17870942e+00, 6.57263437e-01, 1.18558444e-01, 6.09014543e-01,\n",
              "        1.02320929e-01, 6.50578218e-01, 1.22180424e+00, 2.09342034e+00,\n",
              "        1.38769377e+00, 2.10462918e+00, 1.31857728e+00, 6.15350019e-01,\n",
              "        2.63093678e+00, 2.89414292e-01, 1.90130602e+00, 2.12020591e+00,\n",
              "        2.23183598e+00, 9.90203101e-01, 1.84018894e+00, 2.17094364e-01],\n",
              "       [1.20664943e+00, 6.72843147e-01, 1.21368742e-01, 6.23450566e-01,\n",
              "        1.04746334e-01, 6.65999462e-01, 1.25076577e+00, 2.14304257e+00,\n",
              "        1.42058753e+00, 2.15451711e+00, 1.34983271e+00, 6.29936217e-01,\n",
              "        2.69330026e+00, 2.96274541e-01, 1.94637440e+00, 2.17046307e+00,\n",
              "        2.28473921e+00, 1.01367478e+00, 1.88380860e+00, 2.22240348e-01],\n",
              "       [2.73606777e-01, 1.52566635e-01, 2.75202635e-02, 1.41366908e-01,\n",
              "        2.37511460e-02, 1.51014836e-01, 2.83610120e-01, 4.85933158e-01,\n",
              "        3.22117065e-01, 4.88535000e-01, 3.06073467e-01, 1.42837524e-01,\n",
              "        6.10703640e-01, 6.71800108e-02, 4.41338810e-01, 4.92150734e-01,\n",
              "        5.18062755e-01, 2.29849931e-01, 4.27152066e-01, 5.03928178e-02],\n",
              "       [1.72814745e-01, 9.63637106e-02, 1.73822717e-02, 8.92897701e-02,\n",
              "        1.50016322e-02, 9.53835671e-02, 1.79133029e-01, 3.06923739e-01,\n",
              "        2.03454678e-01, 3.08567107e-01, 1.93321265e-01, 9.02186365e-02,\n",
              "        3.85730921e-01, 4.24320501e-02, 2.78757182e-01, 3.10850867e-01,\n",
              "        3.27217345e-01, 1.45177169e-01, 2.69796590e-01, 3.18289703e-02],\n",
              "       [6.11862150e-03, 3.41182155e-03, 6.15430940e-04, 3.16136396e-03,\n",
              "        5.31142811e-04, 3.37711891e-03, 6.34232455e-03, 1.08668400e-02,\n",
              "        7.20344878e-03, 1.09250246e-02, 6.84466854e-03, 3.19425110e-03,\n",
              "        1.36570609e-02, 1.50233508e-03, 9.86958425e-03, 1.10058826e-02,\n",
              "        1.15853487e-02, 5.14009465e-03, 9.55232851e-03, 1.12692596e-03],\n",
              "       [1.08743841e+00, 6.06369554e-01, 1.09378108e-01, 5.61856717e-01,\n",
              "        9.43979118e-02, 6.00201992e-01, 1.12719627e+00, 1.93132051e+00,\n",
              "        1.28024047e+00, 1.94166142e+00, 1.21647588e+00, 5.67701618e-01,\n",
              "        2.42721544e+00, 2.67004074e-01, 1.75408219e+00, 1.95603200e+00,\n",
              "        2.05901822e+00, 9.13528700e-01, 1.69769758e+00, 2.00284095e-01],\n",
              "       [1.46193888e+00, 8.15195804e-01, 1.47046589e-01, 7.55353292e-01,\n",
              "        1.26907397e-01, 8.06904210e-01, 1.51538886e+00, 2.59644365e+00,\n",
              "        1.72113961e+00, 2.61034584e+00, 1.63541527e+00, 7.63211104e-01,\n",
              "        3.26311872e+00, 3.58957008e-01, 2.35816661e+00, 2.62966547e+00,\n",
              "        2.76811888e+00, 1.22813680e+00, 2.28236384e+00, 2.69259485e-01],\n",
              "       [1.35829706e+00, 7.57403798e-01, 1.36621955e-01, 7.01803725e-01,\n",
              "        1.17910499e-01, 7.49700023e-01, 1.40795778e+00, 2.41237291e+00,\n",
              "        1.59912217e+00, 2.42528953e+00, 1.51947512e+00, 7.09104470e-01,\n",
              "        3.03178513e+00, 3.33509323e-01, 2.19098815e+00, 2.44323953e+00,\n",
              "        2.57187751e+00, 1.14107000e+00, 2.12055929e+00, 2.50170763e-01],\n",
              "       [1.53759763e+00, 8.57384091e-01, 1.54656593e-01, 7.94444588e-01,\n",
              "        1.33475151e-01, 8.48663387e-01, 1.59381377e+00, 2.73081567e+00,\n",
              "        1.81021261e+00, 2.74543733e+00, 1.72005183e+00, 8.02709061e-01,\n",
              "        3.43199274e+00, 3.77533871e-01, 2.48020724e+00, 2.76575680e+00,\n",
              "        2.91137550e+00, 1.29169575e+00, 2.40048150e+00, 2.83194292e-01],\n",
              "       [7.82302932e-01, 4.36222113e-01, 7.86865847e-02, 4.04199589e-01,\n",
              "        6.79098353e-02, 4.31785171e-01, 8.10904726e-01, 1.38939152e+00,\n",
              "        9.21004690e-01, 1.39683076e+00, 8.75132457e-01, 4.08404409e-01,\n",
              "        1.74613821e+00, 1.92082667e-01, 1.26188631e+00, 1.40716896e+00,\n",
              "        1.48125722e+00, 6.57192330e-01, 1.22132323e+00, 1.44084330e-01],\n",
              "       [1.38113985e+00, 7.70141235e-01, 1.38919559e-01, 7.13606122e-01,\n",
              "        1.19893428e-01, 7.62307904e-01, 1.43163574e+00, 2.45294236e+00,\n",
              "        1.62601498e+00, 2.46607620e+00, 1.54502849e+00, 7.21029646e-01,\n",
              "        3.08277137e+00, 3.39118028e-01, 2.22783451e+00, 2.48432806e+00,\n",
              "        2.61512937e+00, 1.16025964e+00, 2.15622124e+00, 2.54377943e-01],\n",
              "       [9.84589018e-01, 5.49019420e-01, 9.90331801e-02, 5.08716585e-01,\n",
              "        8.54698037e-02, 5.43435183e-01, 1.02058660e+00, 1.74865717e+00,\n",
              "        1.15915596e+00, 1.75802004e+00, 1.10142219e+00, 5.14008678e-01,\n",
              "        2.19765060e+00, 2.41750960e-01, 1.58818196e+00, 1.77103145e+00,\n",
              "        1.86427729e+00, 8.27127605e-01, 1.53713018e+00, 1.81341324e-01],\n",
              "       [9.74646693e-02, 5.43475453e-02, 9.80331487e-03, 5.03579594e-02,\n",
              "        8.46067345e-03, 5.37947605e-02, 1.01028077e-01, 1.73099932e-01,\n",
              "        1.14745087e-01, 1.74026765e-01, 1.09030009e-01, 5.08818248e-02,\n",
              "        2.17545885e-01, 2.39309772e-02, 1.57214458e-01, 1.75314768e-01,\n",
              "        1.84545192e-01, 8.18775317e-02, 1.52160832e-01, 1.79510149e-02],\n",
              "       [5.71058653e-01, 3.18429604e-01, 5.74389450e-02, 2.95054081e-01,\n",
              "        4.95722278e-02, 3.15190763e-01, 5.91937141e-01, 1.01421587e+00,\n",
              "        6.72306950e-01, 1.01964631e+00, 6.38821538e-01, 2.98123479e-01,\n",
              "        1.27463070e+00, 1.40214826e-01, 9.21140733e-01, 1.02719289e+00,\n",
              "        1.08127519e+00, 4.79731510e-01, 8.91530855e-01, 1.05177419e-01]])"
            ]
          },
          "metadata": {},
          "execution_count": 88
        }
      ],
      "source": [
        "X=np.random.uniform(0,2,20)\n",
        "Y=np.random.uniform(0,2,20)\n",
        "np.einsum('i->',X)\n",
        "np.einsum('i,i->i',X,Y)\n",
        "np.einsum('i,i',X,Y)\n",
        "np.einsum('i,j->ij',X,Y)"
      ]
    },
    {
      "cell_type": "markdown",
      "id": "7ad5cc5f",
      "metadata": {
        "id": "7ad5cc5f"
      },
      "source": [
        "#### 98. Considering a path described by two vectors (X,Y), how to sample it using equidistant samples (★★★)?"
      ]
    },
    {
      "cell_type": "code",
      "execution_count": 87,
      "id": "0899d1d5",
      "metadata": {
        "id": "0899d1d5"
      },
      "outputs": [],
      "source": [
        "phi=np.arange(0,10*np.pi,0.1)\n",
        "a=1\n",
        "x=a*phi*np.cos(phi)\n",
        "y=a*phi*np.sin(phi)\n",
        "dr=(np.diff(x)**2+np.diff(y)**2)**.5\n",
        "r=np.zeros_like(x)\n",
        "r[1:]=np.cumsum(dr)\n",
        "r_int=np.linspace(0,r.max(),200)\n",
        "x_int=np.interp(r_int,r,x)\n",
        "y_int=np.interp(r_int,r,y)"
      ]
    },
    {
      "cell_type": "markdown",
      "id": "2b69272e",
      "metadata": {
        "id": "2b69272e"
      },
      "source": [
        "#### 99. Given an integer n and a 2D array X, select from X the rows which can be interpreted as draws from a multinomial distribution with n degrees, i.e., the rows which only contain integers and which sum to n. (★★★)"
      ]
    },
    {
      "cell_type": "code",
      "execution_count": 85,
      "id": "55c8b034",
      "metadata": {
        "id": "55c8b034",
        "colab": {
          "base_uri": "https://localhost:8080/"
        },
        "outputId": "9f56f19a-89c8-4bd3-9f14-de8e8eccd2bd"
      },
      "outputs": [
        {
          "output_type": "stream",
          "name": "stdout",
          "text": [
            "[[2. 0. 1. 1.]]\n"
          ]
        }
      ],
      "source": [
        "X=np.asarray([[1.0, 0.0, 3.0, 8.0],\n",
        "[2.0, 0.0, 1.0, 1.0],\n",
        "[1.5,2.5,1.0,0.0]])\n",
        "n=4\n",
        "M=np.logical_and.reduce(np.mod(X,1)==0,axis=-1)\n",
        "M&=(X.sum(axis=-1)==n)\n",
        "print(X[M])"
      ]
    },
    {
      "cell_type": "markdown",
      "id": "59ab5516",
      "metadata": {
        "id": "59ab5516"
      },
      "source": [
        "#### 100. Compute bootstrapped 95% confidence intervals for the mean of a 1D array X (i.e., resample the elements of an array with replacement N times, compute the mean of each sample, and then compute percentiles over the means). (★★★)"
      ]
    },
    {
      "cell_type": "code",
      "execution_count": 84,
      "id": "450877d8",
      "metadata": {
        "id": "450877d8",
        "colab": {
          "base_uri": "https://localhost:8080/"
        },
        "outputId": "7d04b519-45d5-4773-8985-c86e1e060e44"
      },
      "outputs": [
        {
          "output_type": "stream",
          "name": "stdout",
          "text": [
            "[-0.11779332  0.25754188]\n"
          ]
        }
      ],
      "source": [
        "import numpy as np\n",
        "import scipy.stats as st\n",
        "np.random.seed(10)\n",
        "X=np.random.randn(100)\n",
        "N=1000\n",
        "idx=np.random.randint(0,X.size,(N,X.size))\n",
        "means=X[idx].mean(axis=1)\n",
        "confint=np.percentile(means,[2.5,97.5])\n",
        "print(confint)\n"
      ]
    }
  ],
  "metadata": {
    "colab": {
      "provenance": [],
      "include_colab_link": true
    },
    "language_info": {
      "name": "python"
    },
    "kernelspec": {
      "name": "python3",
      "display_name": "Python 3"
    }
  },
  "nbformat": 4,
  "nbformat_minor": 5
}